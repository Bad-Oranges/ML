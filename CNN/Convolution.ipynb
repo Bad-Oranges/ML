{
 "cells": [
  {
   "cell_type": "markdown",
   "metadata": {
    "collapsed": true,
    "pycharm": {
     "name": "#%% md\n"
    }
   },
   "source": [
    "# 认识卷积\n",
    "\n",
    "假设某药片一天后含量变为0.8，两天后0.6，三天后0.2，四天后完全吸收\n",
    "例：小明每天吃一粒药，第四天体内药物含量为0.2 + 0.6 + 0.8 + 1.0 = 2.6（粒）\n",
    "\n",
    "如果用 1 代表吃药，0 代表没吃药，求 [1, 0, 0, 1, 0, 1, 1, 0, 1, 0] 这10天中小明每天体内的药物含量\n"
   ]
  },
  {
   "cell_type": "code",
   "execution_count": 3,
   "outputs": [],
   "source": [
    "xiao_ming = [1, 0, 0, 1, 0, 1, 1, 0, 1, 0]"
   ],
   "metadata": {
    "collapsed": false,
    "pycharm": {
     "name": "#%%\n"
    }
   }
  },
  {
   "cell_type": "code",
   "execution_count": 21,
   "outputs": [
    {
     "data": {
      "text/plain": "array([1. , 0.8, 0.6, 1.2, 0.8, 1.6, 2. , 1.4, 1.8, 1. ])"
     },
     "execution_count": 21,
     "metadata": {},
     "output_type": "execute_result"
    }
   ],
   "source": [
    "import numpy as np\n",
    "\n",
    "data = np.array(xiao_ming)\n",
    "\n",
    "# conv\n",
    "kernel = np.asarray([0.2, 0.6, 0.8, 1])\n",
    "data_with_padding = np.pad(data, len(kernel) - 1, constant_values=0)\n",
    "result = np.zeros(10)\n",
    "for i in range(len(data)):\n",
    "    result[i] = np.sum(data_with_padding[i: i + len(kernel)] * kernel)\n",
    "print(result)"
   ],
   "metadata": {
    "collapsed": false,
    "pycharm": {
     "name": "#%%\n"
    }
   }
  }
 ],
 "metadata": {
  "kernelspec": {
   "display_name": "Python 3",
   "language": "python",
   "name": "python3"
  },
  "language_info": {
   "codemirror_mode": {
    "name": "ipython",
    "version": 2
   },
   "file_extension": ".py",
   "mimetype": "text/x-python",
   "name": "python",
   "nbconvert_exporter": "python",
   "pygments_lexer": "ipython2",
   "version": "2.7.6"
  }
 },
 "nbformat": 4,
 "nbformat_minor": 0
}