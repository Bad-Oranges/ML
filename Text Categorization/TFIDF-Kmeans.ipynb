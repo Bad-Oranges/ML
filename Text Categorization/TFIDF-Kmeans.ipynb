{
 "cells": [
  {
   "cell_type": "code",
   "execution_count": 111,
   "metadata": {
    "collapsed": true
   },
   "outputs": [],
   "source": [
    "import numpy as np\n",
    "import pandas as pd\n",
    "import matplotlib.pyplot as plt\n",
    "import seaborn as sns\n",
    "\n",
    "from sklearn.feature_extraction import text\n",
    "from sklearn.feature_extraction.text import TfidfVectorizer\n",
    "from sklearn.cluster import KMeans\n",
    "from nltk.tokenize import RegexpTokenizer\n",
    "from nltk.stem.snowball import SnowballStemmer\n",
    "\n",
    "%matplotlib inline"
   ]
  },
  {
   "cell_type": "markdown",
   "source": [
    "## 读取数据"
   ],
   "metadata": {
    "collapsed": false,
    "pycharm": {
     "name": "#%% md\n"
    }
   }
  },
  {
   "cell_type": "code",
   "execution_count": 112,
   "outputs": [
    {
     "name": "stdout",
     "output_type": "stream",
     "text": [
      "<class 'pandas.core.frame.DataFrame'>\n",
      "RangeIndex: 10000 entries, 0 to 9999\n",
      "Data columns (total 1 columns):\n",
      " #   Column         Non-Null Count  Dtype \n",
      "---  ------         --------------  ----- \n",
      " 0   headline_text  10000 non-null  object\n",
      "dtypes: object(1)\n",
      "memory usage: 78.2+ KB\n"
     ]
    }
   ],
   "source": [
    "# Read Dataset\n",
    "data = pd.read_csv('data/abcnews-date-text.csv', usecols=['headline_text'])\n",
    "data = data.head(10000)  # 这里只获取部分数据\n",
    "data.info()"
   ],
   "metadata": {
    "collapsed": false,
    "pycharm": {
     "name": "#%%\n"
    }
   }
  },
  {
   "cell_type": "code",
   "execution_count": 113,
   "outputs": [
    {
     "data": {
      "text/plain": "                                          headline_text\n0     aba decides against community broadcasting lic...\n1        act fire witnesses must be aware of defamation\n2        a g calls for infrastructure protection summit\n3              air nz staff in aust strike for pay rise\n4         air nz strike to affect australian travellers\n...                                                 ...\n9995  us units attack palace as fighting rages in heart\n9996   vasco win 10 goal thriller in brazil on edmundos\n9997                       vic bushfires inquiry begins\n9998             vic govt plan aims to reduce water use\n9999          vic govt urged to green light marina plan\n\n[10000 rows x 1 columns]",
      "text/html": "<div>\n<style scoped>\n    .dataframe tbody tr th:only-of-type {\n        vertical-align: middle;\n    }\n\n    .dataframe tbody tr th {\n        vertical-align: top;\n    }\n\n    .dataframe thead th {\n        text-align: right;\n    }\n</style>\n<table border=\"1\" class=\"dataframe\">\n  <thead>\n    <tr style=\"text-align: right;\">\n      <th></th>\n      <th>headline_text</th>\n    </tr>\n  </thead>\n  <tbody>\n    <tr>\n      <th>0</th>\n      <td>aba decides against community broadcasting lic...</td>\n    </tr>\n    <tr>\n      <th>1</th>\n      <td>act fire witnesses must be aware of defamation</td>\n    </tr>\n    <tr>\n      <th>2</th>\n      <td>a g calls for infrastructure protection summit</td>\n    </tr>\n    <tr>\n      <th>3</th>\n      <td>air nz staff in aust strike for pay rise</td>\n    </tr>\n    <tr>\n      <th>4</th>\n      <td>air nz strike to affect australian travellers</td>\n    </tr>\n    <tr>\n      <th>...</th>\n      <td>...</td>\n    </tr>\n    <tr>\n      <th>9995</th>\n      <td>us units attack palace as fighting rages in heart</td>\n    </tr>\n    <tr>\n      <th>9996</th>\n      <td>vasco win 10 goal thriller in brazil on edmundos</td>\n    </tr>\n    <tr>\n      <th>9997</th>\n      <td>vic bushfires inquiry begins</td>\n    </tr>\n    <tr>\n      <th>9998</th>\n      <td>vic govt plan aims to reduce water use</td>\n    </tr>\n    <tr>\n      <th>9999</th>\n      <td>vic govt urged to green light marina plan</td>\n    </tr>\n  </tbody>\n</table>\n<p>10000 rows × 1 columns</p>\n</div>"
     },
     "execution_count": 113,
     "metadata": {},
     "output_type": "execute_result"
    }
   ],
   "source": [
    "data"
   ],
   "metadata": {
    "collapsed": false,
    "pycharm": {
     "name": "#%%\n"
    }
   }
  },
  {
   "cell_type": "code",
   "execution_count": 114,
   "outputs": [
    {
     "data": {
      "text/plain": "                                headline_text\n9256  5 australian sars cases being monitored\n9461  5 australian sars cases being monitored\n6404    all walks of life follow protest path\n6194    all walks of life follow protest path\n6199      asio briefs crean on terrorist risk\n...                                       ...\n6398                     wildcats crush hawks\n6598                     wildcats crush hawks\n5511                  woman dies in car crash\n5031                  woman dies in car crash\n1205                  woman dies in car crash\n\n[64 rows x 1 columns]",
      "text/html": "<div>\n<style scoped>\n    .dataframe tbody tr th:only-of-type {\n        vertical-align: middle;\n    }\n\n    .dataframe tbody tr th {\n        vertical-align: top;\n    }\n\n    .dataframe thead th {\n        text-align: right;\n    }\n</style>\n<table border=\"1\" class=\"dataframe\">\n  <thead>\n    <tr style=\"text-align: right;\">\n      <th></th>\n      <th>headline_text</th>\n    </tr>\n  </thead>\n  <tbody>\n    <tr>\n      <th>9256</th>\n      <td>5 australian sars cases being monitored</td>\n    </tr>\n    <tr>\n      <th>9461</th>\n      <td>5 australian sars cases being monitored</td>\n    </tr>\n    <tr>\n      <th>6404</th>\n      <td>all walks of life follow protest path</td>\n    </tr>\n    <tr>\n      <th>6194</th>\n      <td>all walks of life follow protest path</td>\n    </tr>\n    <tr>\n      <th>6199</th>\n      <td>asio briefs crean on terrorist risk</td>\n    </tr>\n    <tr>\n      <th>...</th>\n      <td>...</td>\n    </tr>\n    <tr>\n      <th>6398</th>\n      <td>wildcats crush hawks</td>\n    </tr>\n    <tr>\n      <th>6598</th>\n      <td>wildcats crush hawks</td>\n    </tr>\n    <tr>\n      <th>5511</th>\n      <td>woman dies in car crash</td>\n    </tr>\n    <tr>\n      <th>5031</th>\n      <td>woman dies in car crash</td>\n    </tr>\n    <tr>\n      <th>1205</th>\n      <td>woman dies in car crash</td>\n    </tr>\n  </tbody>\n</table>\n<p>64 rows × 1 columns</p>\n</div>"
     },
     "execution_count": 114,
     "metadata": {},
     "output_type": "execute_result"
    }
   ],
   "source": [
    "data[data['headline_text'].duplicated(keep=False)].sort_values('headline_text')"
   ],
   "metadata": {
    "collapsed": false,
    "pycharm": {
     "name": "#%%\n"
    }
   }
  },
  {
   "cell_type": "code",
   "execution_count": 115,
   "outputs": [
    {
     "data": {
      "text/plain": "                                          headline_text\n0     aba decides against community broadcasting lic...\n1        act fire witnesses must be aware of defamation\n2        a g calls for infrastructure protection summit\n3              air nz staff in aust strike for pay rise\n4         air nz strike to affect australian travellers\n...                                                 ...\n9995  us units attack palace as fighting rages in heart\n9996   vasco win 10 goal thriller in brazil on edmundos\n9997                       vic bushfires inquiry begins\n9998             vic govt plan aims to reduce water use\n9999          vic govt urged to green light marina plan\n\n[9967 rows x 1 columns]",
      "text/html": "<div>\n<style scoped>\n    .dataframe tbody tr th:only-of-type {\n        vertical-align: middle;\n    }\n\n    .dataframe tbody tr th {\n        vertical-align: top;\n    }\n\n    .dataframe thead th {\n        text-align: right;\n    }\n</style>\n<table border=\"1\" class=\"dataframe\">\n  <thead>\n    <tr style=\"text-align: right;\">\n      <th></th>\n      <th>headline_text</th>\n    </tr>\n  </thead>\n  <tbody>\n    <tr>\n      <th>0</th>\n      <td>aba decides against community broadcasting lic...</td>\n    </tr>\n    <tr>\n      <th>1</th>\n      <td>act fire witnesses must be aware of defamation</td>\n    </tr>\n    <tr>\n      <th>2</th>\n      <td>a g calls for infrastructure protection summit</td>\n    </tr>\n    <tr>\n      <th>3</th>\n      <td>air nz staff in aust strike for pay rise</td>\n    </tr>\n    <tr>\n      <th>4</th>\n      <td>air nz strike to affect australian travellers</td>\n    </tr>\n    <tr>\n      <th>...</th>\n      <td>...</td>\n    </tr>\n    <tr>\n      <th>9995</th>\n      <td>us units attack palace as fighting rages in heart</td>\n    </tr>\n    <tr>\n      <th>9996</th>\n      <td>vasco win 10 goal thriller in brazil on edmundos</td>\n    </tr>\n    <tr>\n      <th>9997</th>\n      <td>vic bushfires inquiry begins</td>\n    </tr>\n    <tr>\n      <th>9998</th>\n      <td>vic govt plan aims to reduce water use</td>\n    </tr>\n    <tr>\n      <th>9999</th>\n      <td>vic govt urged to green light marina plan</td>\n    </tr>\n  </tbody>\n</table>\n<p>9967 rows × 1 columns</p>\n</div>"
     },
     "execution_count": 115,
     "metadata": {},
     "output_type": "execute_result"
    }
   ],
   "source": [
    "data = data.drop_duplicates()\n",
    "data"
   ],
   "metadata": {
    "collapsed": false,
    "pycharm": {
     "name": "#%%\n"
    }
   }
  },
  {
   "cell_type": "markdown",
   "source": [
    "## 数据预处理"
   ],
   "metadata": {
    "collapsed": false,
    "pycharm": {
     "name": "#%% md\n"
    }
   }
  },
  {
   "cell_type": "code",
   "execution_count": 116,
   "outputs": [
    {
     "name": "stdout",
     "output_type": "stream",
     "text": [
      "frozenset({'done', 'cry', 'hereupon', '.', 'anything', 'enough', 'made', 'please', 'somewhere', ')', 'elsewhere', 'up', 'latterly', '{', 'than', 'system', 'still', 'noone', 'no', 'nothing', 'afterwards', 'due', 'nor', 'anyone', 'only', 'be', 'empty', 'last', 'towards', 'move', 'its', 'and', 'whether', 'whole', '[', 'inc', 'found', 'etc', 'about', 'fire', 'neither', 'third', 'latter', 'then', 'each', 'becomes', 'serious', 'itself', 'themselves', 'should', 'became', 'thin', 'hundred', 'besides', 'thru', 'cant', 'between', 'her', 'these', 'call', \"'\", 'against', 'from', 'once', 'others', 'almost', 'whither', '?', 'have', 'below', 'onto', 'also', 'sometime', 'everyone', 'therein', 'down', 'such', 'may', 'throughout', 'around', 'whatever', 'seem', 'herein', 'ten', 'three', 'many', 'see', 'his', 'since', 'own', 'on', 'sincere', ';', 'namely', 'seeming', 'through', 'within', 'been', 'that', 'yourselves', 'wherein', 'because', 'where', '\"', 'even', 'me', 'i', 'thence', 'same', 'anyhow', 'much', 'will', 'while', 'him', 'already', 'six', 'however', 'their', 'via', 'us', 'formerly', 'what', 'across', 'out', 'perhaps', 'of', 'for', 'part', 'nobody', 'forty', 'whence', 'do', 'less', 'there', 'those', 'find', 'either', 'why', 'off', 'thick', 'co', 'ours', 'alone', 'whereupon', 'con', 'beside', 'by', 'very', 'she', 'would', 'before', 'am', 'upon', 'during', 'give', 'two', 'thus', 'twenty', 'fifteen', 'was', 'bottom', 'mine', 'go', 'we', 'cannot', 'front', 'might', 'top', 'can', 'hereby', 'thereupon', '%', 'toward', 'thereafter', 'could', 'any', 'but', 'someone', 'further', 'thereby', 'becoming', 'my', 'over', 'he', 'amoungst', 'herself', 'a', 'an', 'both', 'show', 're', 'something', 'our', 'here', 'twelve', 'when', 'your', 'other', 'to', 'although', 'sixty', 'well', 'as', 'it', 'sometimes', '}', 'whereas', 'which', 'had', 'hereafter', '!', 'least', 'back', 'some', 'being', 'whoever', 'next', 'hers', 'nowhere', 'whereafter', 'former', 'never', 'again', 'is', 'full', 'couldnt', 'except', 'ltd', 'five', 'behind', 'whereby', 'become', 'must', 'after', 'too', 'whenever', 'are', 'therefore', 'bill', 'moreover', 'or', 'one', 'so', 'mill', 'several', 'seemed', 'whose', 'along', 'at', ']', 'else', 'eight', 'were', 'otherwise', 'keep', 'though', '(', 'myself', 'in', 'himself', 'fifty', 'without', 'another', 'into', 'anywhere', 'among', 'with', 'eg', 'most', 'rather', 'above', 'yourself', 'not', 'de', 'yours', 'detail', 'has', 'all', 'ever', 'beforehand', 'somehow', 'whom', 'nevertheless', 'indeed', 'under', 'yet', 'amongst', 'ourselves', 'side', 'hence', 'always', 'meanwhile', 'everywhere', 'eleven', 'four', 'how', 'the', 'put', 'get', 'this', 'un', 'everything', 'nine', 'together', 'they', 'first', 'amount', 'ie', 'fill', 'per', 'often', 'every', 'describe', 'name', 'take', 'anyway', 'them', 'few', 'wherever', ':', 'mostly', 'more', 'interest', 'hasnt', 'you', 'now', 'who', 'until', 'seems', ',', 'none', 'beyond', 'if'})\n",
      "<class 'frozenset'>\n"
     ]
    },
    {
     "data": {
      "text/plain": "<9967x10050 sparse matrix of type '<class 'numpy.float64'>'\n\twith 63639 stored elements in Compressed Sparse Row format>"
     },
     "execution_count": 116,
     "metadata": {},
     "output_type": "execute_result"
    }
   ],
   "source": [
    "punc = ['.', ',', '\"', \"'\", '?', '!', ':', ';', '(', ')', '[', ']', '{', '}',\"%\"]\n",
    "stop_words = text.ENGLISH_STOP_WORDS.union(punc)\n",
    "print(stop_words)\n",
    "print(type(stop_words))\n",
    "desc = data['headline_text'].values\n",
    "\n",
    "vectorizer = TfidfVectorizer()\n",
    "X = vectorizer.fit_transform(desc)\n",
    "X"
   ],
   "metadata": {
    "collapsed": false,
    "pycharm": {
     "name": "#%%\n"
    }
   }
  },
  {
   "cell_type": "code",
   "execution_count": 117,
   "outputs": [
    {
     "name": "stdout",
     "output_type": "stream",
     "text": [
      "10050\n",
      "['killings', 'kills', 'kily', 'kimberley', 'kindred', 'king', 'kingfish', 'kingfisher', 'kings', 'kingstream', 'kingz', 'kirilenko', 'kirkuk', 'kirsten', 'kirwan', 'kit', 'kits', 'kitty', 'kivilev', 'kivilevs', 'kiwi', 'kiwis', 'klim', 'klims', 'klitschko', 'klusener', 'km', 'knee', 'knife', 'knights', 'knives', 'knock', 'knocked', 'knocking', 'knopfler', 'know', 'knowles', 'known', 'koala', 'koalas', 'koen', 'kong', 'kookaburras', 'korea', 'korean', 'koreans', 'koreas', 'kosciuszko', 'kosmina', 'kournikova', 'krakow', 'kravitz', 'krige', 'kroger', 'kucera', 'kuerten', 'kununurra', 'kuranyi', 'kurd', 'kurdish', 'kurds', 'kuwait', 'kuwaiti', 'kwan', 'kyi', 'kylie', 'kyoto', 'kyrgyzstan', 'la', 'label', 'labels', 'labor', 'laboratories', 'labors', 'labour', 'lack', 'laden', 'ladens', 'ladies', 'lag', 'lagoon', 'lagoons', 'lags', 'laid', 'lake', 'lakers', 'lakes', 'lambie', 'laments', 'land', 'landfill', 'landholder', 'landholders', 'landing', 'landmine', 'landmines', 'lands', 'landslide', 'langer', 'langmack']\n"
     ]
    },
    {
     "name": "stderr",
     "output_type": "stream",
     "text": [
      "E:\\PySoft\\Anaconda3\\envs\\ml\\lib\\site-packages\\sklearn\\utils\\deprecation.py:87: FutureWarning: Function get_feature_names is deprecated; get_feature_names is deprecated in 1.0 and will be removed in 1.2. Please use get_feature_names_out instead.\n",
      "  warnings.warn(msg, category=FutureWarning)\n"
     ]
    }
   ],
   "source": [
    "word_features = vectorizer.get_feature_names()\n",
    "print(len(word_features))\n",
    "print(word_features[5000: 5100])"
   ],
   "metadata": {
    "collapsed": false,
    "pycharm": {
     "name": "#%%\n"
    }
   }
  },
  {
   "cell_type": "markdown",
   "source": [
    "### Tokenizing\n",
    "将句子分解为单词和标点符号"
   ],
   "metadata": {
    "collapsed": false,
    "pycharm": {
     "name": "#%% md\n"
    }
   }
  },
  {
   "cell_type": "markdown",
   "source": [
    "### 使用停用词stemming和自定义的tokenizing进行TFIDF向量化"
   ],
   "metadata": {
    "collapsed": false
   }
  },
  {
   "cell_type": "code",
   "execution_count": 137,
   "outputs": [],
   "source": [
    "stemmer = SnowballStemmer('english')\n",
    "tokenizer = RegexpTokenizer(r'[a-zA-Z\\']+')\n",
    "\n",
    "def tokenize(text):\n",
    "    return np.asarray([' '.join(tokenizer.tokenize(' '.join([stemmer.stem(i) for i in j.split(' ')]))) for j in text], dtype=object)"
   ],
   "metadata": {
    "collapsed": false,
    "pycharm": {
     "name": "#%%\n"
    }
   }
  },
  {
   "cell_type": "code",
   "execution_count": 138,
   "outputs": [
    {
     "name": "stdout",
     "output_type": "stream",
     "text": [
      "['aba decid against communiti broadcast licenc'\n",
      " 'act fire wit must be awar of defam'\n",
      " 'a g call for infrastructur protect summit' ...\n",
      " 'vic bushfir inquiri begin' 'vic govt plan aim to reduc water use'\n",
      " 'vic govt urg to green light marina plan']\n"
     ]
    }
   ],
   "source": [
    "print(tokenize(desc))"
   ],
   "metadata": {
    "collapsed": false,
    "pycharm": {
     "name": "#%%\n"
    }
   }
  },
  {
   "cell_type": "code",
   "execution_count": 140,
   "outputs": [
    {
     "name": "stdout",
     "output_type": "stream",
     "text": [
      "['aa', 'aac', 'ab', 'aba', 'abalon', 'abandon', 'abar', 'abattoir', 'abbott', 'abc', 'abdic', 'abduct', 'abid', 'abigroup', 'abil', 'abl', 'ablaz', 'aboard', 'abolit', 'aborigin', 'abort', 'abov', 'abreast', 'abroad', 'absenc', 'absent', 'abu', 'abund', 'abus', 'abysm', 'ac', 'aca', 'academ', 'academi', 'acapulco', 'acb', 'accc', 'accent', 'accept', 'access', 'accid', 'accident', 'accommod', 'account', 'accredit', 'accus', 'ace', 'aceh', 'achiev', 'acid']\n"
     ]
    },
    {
     "name": "stderr",
     "output_type": "stream",
     "text": [
      "E:\\PySoft\\Anaconda3\\envs\\ml\\lib\\site-packages\\sklearn\\utils\\deprecation.py:87: FutureWarning: Function get_feature_names is deprecated; get_feature_names is deprecated in 1.0 and will be removed in 1.2. Please use get_feature_names_out instead.\n",
      "  warnings.warn(msg, category=FutureWarning)\n"
     ]
    }
   ],
   "source": [
    "vectorizer = TfidfVectorizer(stop_words=stop_words)\n",
    "X = vectorizer.fit_transform(tokenize(desc))\n",
    "\n",
    "# print(X)\n",
    "print(vectorizer.get_feature_names()[:50])"
   ],
   "metadata": {
    "collapsed": false,
    "pycharm": {
     "name": "#%%\n"
    }
   }
  },
  {
   "cell_type": "markdown",
   "source": [
    "## K-Means 聚类\n",
    "\n",
    "使用手肘法选择聚类簇的数量\n",
    "\n",
    ">随着聚类数k的增大,样本划分会更加的精细,每个簇的聚合程度会逐渐提高,那么误差平方和SSE自然会逐渐变小,并且当k小于真实的簇类数时,由于k的增大会大幅增加每个簇的聚合程度,因此SSE的下降幅度会很大,而当k到达真实聚类数时,再增加k所得到的聚合程度回报会迅速变小,所以SSE的下降幅度会骤减,然后随着k值的继续增大而趋于平缓,也就是说SSE和k的关系类似于手肘的形状,而这个肘部对应的k值就是数据的真实聚类数.因此这种方法被称为手肘法."
   ],
   "metadata": {
    "collapsed": false,
    "pycharm": {
     "name": "#%% md\n"
    }
   }
  },
  {
   "cell_type": "code",
   "execution_count": 141,
   "outputs": [
    {
     "data": {
      "text/plain": "<Figure size 432x288 with 1 Axes>",
      "image/png": "[encoded data removed]"
     },
     "metadata": {
      "needs_background": "light"
     },
     "output_type": "display_data"
    }
   ],
   "source": [
    "wcss = []\n",
    "for i in range(1,11):\n",
    "    kmeans = KMeans(n_clusters=i)\n",
    "    kmeans.fit(X)\n",
    "    wcss.append(kmeans.inertia_)\n",
    "plt.plot(range(1,11),wcss)\n",
    "plt.title('The Elbow Method')\n",
    "plt.xlabel('Number of clusters')\n",
    "plt.ylabel('WCSS')\n",
    "plt.savefig('elbow.png')\n",
    "plt.show()"
   ],
   "metadata": {
    "collapsed": false,
    "pycharm": {
     "name": "#%%\n"
    }
   }
  }
 ],
 "metadata": {
  "kernelspec": {
   "display_name": "Python 3",
   "language": "python",
   "name": "python3"
  },
  "language_info": {
   "codemirror_mode": {
    "name": "ipython",
    "version": 2
   },
   "file_extension": ".py",
   "mimetype": "text/x-python",
   "name": "python",
   "nbconvert_exporter": "python",
   "pygments_lexer": "ipython2",
   "version": "2.7.6"
  }
 },
 "nbformat": 4,
 "nbformat_minor": 0
}