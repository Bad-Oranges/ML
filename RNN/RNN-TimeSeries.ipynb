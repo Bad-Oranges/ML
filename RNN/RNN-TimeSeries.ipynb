{
 "cells": [
  {
   "cell_type": "code",
   "execution_count": 8,
   "outputs": [],
   "source": [
    "import random\n",
    "\n",
    "import pandas as pd\n",
    "import numpy as np\n",
    "import torch\n",
    "import torch.nn as nn\n",
    "from tqdm import tqdm\n",
    "import matplotlib.pyplot as plt\n",
    "import seaborn as sns\n",
    "\n",
    "import os\n",
    "os.environ[\"KMP_DUPLICATE_LIB_OK\"]='TRUE'"
   ],
   "metadata": {
    "collapsed": false,
    "pycharm": {
     "name": "#%%\n"
    }
   }
  },
  {
   "cell_type": "code",
   "execution_count": 3,
   "outputs": [
    {
     "name": "stdout",
     "output_type": "stream",
     "text": [
      "<class 'pandas.core.frame.DataFrame'>\n",
      "Int64Index: 15052 entries, 0 to 15051\n",
      "Data columns (total 52 columns):\n",
      " #   Column   Non-Null Count  Dtype  \n",
      "---  ------   --------------  -----  \n",
      " 0   week_1   15052 non-null  float64\n",
      " 1   week_2   15052 non-null  float64\n",
      " 2   week_3   15052 non-null  float64\n",
      " 3   week_4   15052 non-null  float64\n",
      " 4   week_5   15052 non-null  float64\n",
      " 5   week_6   15052 non-null  float64\n",
      " 6   week_7   15052 non-null  float64\n",
      " 7   week_8   15052 non-null  float64\n",
      " 8   week_9   15052 non-null  float64\n",
      " 9   week_10  15052 non-null  float64\n",
      " 10  week_11  15052 non-null  float64\n",
      " 11  week_12  15052 non-null  float64\n",
      " 12  week_13  15052 non-null  float64\n",
      " 13  week_14  15052 non-null  float64\n",
      " 14  week_15  15052 non-null  float64\n",
      " 15  week_16  15052 non-null  float64\n",
      " 16  week_17  15052 non-null  float64\n",
      " 17  week_18  15052 non-null  float64\n",
      " 18  week_19  15052 non-null  float64\n",
      " 19  week_20  15052 non-null  float64\n",
      " 20  week_21  15052 non-null  float64\n",
      " 21  week_22  15052 non-null  float64\n",
      " 22  week_23  15052 non-null  float64\n",
      " 23  week_24  15052 non-null  float64\n",
      " 24  week_25  15052 non-null  float64\n",
      " 25  week_26  15052 non-null  float64\n",
      " 26  week_27  15052 non-null  float64\n",
      " 27  week_28  15052 non-null  float64\n",
      " 28  week_29  15052 non-null  float64\n",
      " 29  week_30  15052 non-null  float64\n",
      " 30  week_31  15052 non-null  float64\n",
      " 31  week_32  15052 non-null  float64\n",
      " 32  week_33  15052 non-null  float64\n",
      " 33  week_34  15052 non-null  float64\n",
      " 34  week_35  15052 non-null  float64\n",
      " 35  week_36  15052 non-null  float64\n",
      " 36  week_37  15052 non-null  float64\n",
      " 37  week_38  15052 non-null  float64\n",
      " 38  week_39  15052 non-null  float64\n",
      " 39  week_40  15052 non-null  float64\n",
      " 40  week_41  15052 non-null  float64\n",
      " 41  week_42  15052 non-null  float64\n",
      " 42  week_43  15052 non-null  float64\n",
      " 43  week_44  15052 non-null  float64\n",
      " 44  week_45  15052 non-null  float64\n",
      " 45  week_46  15052 non-null  float64\n",
      " 46  week_47  15052 non-null  float64\n",
      " 47  week_48  15052 non-null  float64\n",
      " 48  week_49  15052 non-null  float64\n",
      " 49  week_50  15052 non-null  float64\n",
      " 50  week_51  15052 non-null  float64\n",
      " 51  week_52  15052 non-null  float64\n",
      "dtypes: float64(52)\n",
      "memory usage: 6.1 MB\n"
     ]
    },
    {
     "data": {
      "text/plain": "             week_1        week_2        week_3        week_4        week_5  \\\ncount  15052.000000  15052.000000  15052.000000  15052.000000  15052.000000   \nmean       2.373991      2.374079      2.386760      2.369365      2.390925   \nstd        1.083650      1.095881      1.083819      1.098046      1.084391   \nmin       -8.009502     -7.992483     -4.744953     -5.632819     -6.097533   \n25%        1.791478      1.802839      1.814614      1.778552      1.833261   \n50%        2.563223      2.562490      2.562064      2.562889      2.571490   \n75%        3.147875      3.154662      3.157488      3.157654      3.163058   \nmax        5.065280      5.086267      5.094143      4.744124      4.778071   \n\n             week_6        week_7        week_8        week_9       week_10  \\\ncount  15052.000000  15052.000000  15052.000000  15052.000000  15052.000000   \nmean       2.380990      2.390650      2.370621      2.381802      2.363768   \nstd        1.083049      1.079991      1.099412      1.083249      1.104624   \nmin       -6.567091     -8.009502     -8.481057     -5.367929     -5.229729   \n25%        1.811782      1.828376      1.800528      1.812449      1.790343   \n50%        2.564377      2.570222      2.552132      2.562669      2.545383   \n75%        3.157990      3.156671      3.155012      3.158665      3.156912   \nmax        4.898907      4.885306      5.086267      5.149720      4.788320   \n\n       ...       week_43       week_44       week_45       week_46  \\\ncount  ...  15052.000000  15052.000000  15052.000000  15052.000000   \nmean   ...      2.369496      2.384121      2.383063      2.363420   \nstd    ...      1.091731      1.086182      1.081982      1.108570   \nmin    ...     -8.481057     -9.529989     -8.481057     -4.880071   \n25%    ...      1.788151      1.819005      1.805862      1.791998   \n50%    ...      2.561131      2.568527      2.563032      2.567855   \n75%    ...      3.160052      3.157440      3.156312      3.140620   \nmax    ...      5.180371      5.149720      5.180371      5.149720   \n\n            week_47       week_48       week_49       week_50       week_51  \\\ncount  15052.000000  15052.000000  15052.000000  15052.000000  15052.000000   \nmean       2.384468      2.385531      2.371326      2.387824      2.395491   \nstd        1.085829      1.095854      1.113099      1.089533      1.115738   \nmin       -5.675433     -4.675652     -6.425318     -8.435697     -9.529989   \n25%        1.806817      1.819124      1.804890      1.807686      1.836240   \n50%        2.568770      2.562895      2.568934      2.568471      2.590219   \n75%        3.158223      3.177197      3.172867      3.169394      3.179056   \nmax        4.751501      4.768388      4.702625      4.881179      5.143515   \n\n            week_52  \ncount  15052.000000  \nmean       2.390995  \nstd        1.077972  \nmin       -6.287438  \n25%        1.814050  \n50%        2.573671  \n75%        3.158112  \nmax        5.180371  \n\n[8 rows x 52 columns]",
      "text/html": "<div>\n<style scoped>\n    .dataframe tbody tr th:only-of-type {\n        vertical-align: middle;\n    }\n\n    .dataframe tbody tr th {\n        vertical-align: top;\n    }\n\n    .dataframe thead th {\n        text-align: right;\n    }\n</style>\n<table border=\"1\" class=\"dataframe\">\n  <thead>\n    <tr style=\"text-align: right;\">\n      <th></th>\n      <th>week_1</th>\n      <th>week_2</th>\n      <th>week_3</th>\n      <th>week_4</th>\n      <th>week_5</th>\n      <th>week_6</th>\n      <th>week_7</th>\n      <th>week_8</th>\n      <th>week_9</th>\n      <th>week_10</th>\n      <th>...</th>\n      <th>week_43</th>\n      <th>week_44</th>\n      <th>week_45</th>\n      <th>week_46</th>\n      <th>week_47</th>\n      <th>week_48</th>\n      <th>week_49</th>\n      <th>week_50</th>\n      <th>week_51</th>\n      <th>week_52</th>\n    </tr>\n  </thead>\n  <tbody>\n    <tr>\n      <th>count</th>\n      <td>15052.000000</td>\n      <td>15052.000000</td>\n      <td>15052.000000</td>\n      <td>15052.000000</td>\n      <td>15052.000000</td>\n      <td>15052.000000</td>\n      <td>15052.000000</td>\n      <td>15052.000000</td>\n      <td>15052.000000</td>\n      <td>15052.000000</td>\n      <td>...</td>\n      <td>15052.000000</td>\n      <td>15052.000000</td>\n      <td>15052.000000</td>\n      <td>15052.000000</td>\n      <td>15052.000000</td>\n      <td>15052.000000</td>\n      <td>15052.000000</td>\n      <td>15052.000000</td>\n      <td>15052.000000</td>\n      <td>15052.000000</td>\n    </tr>\n    <tr>\n      <th>mean</th>\n      <td>2.373991</td>\n      <td>2.374079</td>\n      <td>2.386760</td>\n      <td>2.369365</td>\n      <td>2.390925</td>\n      <td>2.380990</td>\n      <td>2.390650</td>\n      <td>2.370621</td>\n      <td>2.381802</td>\n      <td>2.363768</td>\n      <td>...</td>\n      <td>2.369496</td>\n      <td>2.384121</td>\n      <td>2.383063</td>\n      <td>2.363420</td>\n      <td>2.384468</td>\n      <td>2.385531</td>\n      <td>2.371326</td>\n      <td>2.387824</td>\n      <td>2.395491</td>\n      <td>2.390995</td>\n    </tr>\n    <tr>\n      <th>std</th>\n      <td>1.083650</td>\n      <td>1.095881</td>\n      <td>1.083819</td>\n      <td>1.098046</td>\n      <td>1.084391</td>\n      <td>1.083049</td>\n      <td>1.079991</td>\n      <td>1.099412</td>\n      <td>1.083249</td>\n      <td>1.104624</td>\n      <td>...</td>\n      <td>1.091731</td>\n      <td>1.086182</td>\n      <td>1.081982</td>\n      <td>1.108570</td>\n      <td>1.085829</td>\n      <td>1.095854</td>\n      <td>1.113099</td>\n      <td>1.089533</td>\n      <td>1.115738</td>\n      <td>1.077972</td>\n    </tr>\n    <tr>\n      <th>min</th>\n      <td>-8.009502</td>\n      <td>-7.992483</td>\n      <td>-4.744953</td>\n      <td>-5.632819</td>\n      <td>-6.097533</td>\n      <td>-6.567091</td>\n      <td>-8.009502</td>\n      <td>-8.481057</td>\n      <td>-5.367929</td>\n      <td>-5.229729</td>\n      <td>...</td>\n      <td>-8.481057</td>\n      <td>-9.529989</td>\n      <td>-8.481057</td>\n      <td>-4.880071</td>\n      <td>-5.675433</td>\n      <td>-4.675652</td>\n      <td>-6.425318</td>\n      <td>-8.435697</td>\n      <td>-9.529989</td>\n      <td>-6.287438</td>\n    </tr>\n    <tr>\n      <th>25%</th>\n      <td>1.791478</td>\n      <td>1.802839</td>\n      <td>1.814614</td>\n      <td>1.778552</td>\n      <td>1.833261</td>\n      <td>1.811782</td>\n      <td>1.828376</td>\n      <td>1.800528</td>\n      <td>1.812449</td>\n      <td>1.790343</td>\n      <td>...</td>\n      <td>1.788151</td>\n      <td>1.819005</td>\n      <td>1.805862</td>\n      <td>1.791998</td>\n      <td>1.806817</td>\n      <td>1.819124</td>\n      <td>1.804890</td>\n      <td>1.807686</td>\n      <td>1.836240</td>\n      <td>1.814050</td>\n    </tr>\n    <tr>\n      <th>50%</th>\n      <td>2.563223</td>\n      <td>2.562490</td>\n      <td>2.562064</td>\n      <td>2.562889</td>\n      <td>2.571490</td>\n      <td>2.564377</td>\n      <td>2.570222</td>\n      <td>2.552132</td>\n      <td>2.562669</td>\n      <td>2.545383</td>\n      <td>...</td>\n      <td>2.561131</td>\n      <td>2.568527</td>\n      <td>2.563032</td>\n      <td>2.567855</td>\n      <td>2.568770</td>\n      <td>2.562895</td>\n      <td>2.568934</td>\n      <td>2.568471</td>\n      <td>2.590219</td>\n      <td>2.573671</td>\n    </tr>\n    <tr>\n      <th>75%</th>\n      <td>3.147875</td>\n      <td>3.154662</td>\n      <td>3.157488</td>\n      <td>3.157654</td>\n      <td>3.163058</td>\n      <td>3.157990</td>\n      <td>3.156671</td>\n      <td>3.155012</td>\n      <td>3.158665</td>\n      <td>3.156912</td>\n      <td>...</td>\n      <td>3.160052</td>\n      <td>3.157440</td>\n      <td>3.156312</td>\n      <td>3.140620</td>\n      <td>3.158223</td>\n      <td>3.177197</td>\n      <td>3.172867</td>\n      <td>3.169394</td>\n      <td>3.179056</td>\n      <td>3.158112</td>\n    </tr>\n    <tr>\n      <th>max</th>\n      <td>5.065280</td>\n      <td>5.086267</td>\n      <td>5.094143</td>\n      <td>4.744124</td>\n      <td>4.778071</td>\n      <td>4.898907</td>\n      <td>4.885306</td>\n      <td>5.086267</td>\n      <td>5.149720</td>\n      <td>4.788320</td>\n      <td>...</td>\n      <td>5.180371</td>\n      <td>5.149720</td>\n      <td>5.180371</td>\n      <td>5.149720</td>\n      <td>4.751501</td>\n      <td>4.768388</td>\n      <td>4.702625</td>\n      <td>4.881179</td>\n      <td>5.143515</td>\n      <td>5.180371</td>\n    </tr>\n  </tbody>\n</table>\n<p>8 rows × 52 columns</p>\n</div>"
     },
     "execution_count": 3,
     "metadata": {},
     "output_type": "execute_result"
    }
   ],
   "source": [
    "# x\n",
    "sale = pd.read_csv('../data/Time series data/sale.csv', index_col=0)\n",
    "# y\n",
    "revenue = pd.read_csv('../data/Time series data/revenue.csv', index_col=0)\n",
    "\n",
    "sale.info()\n",
    "sale.describe()"
   ],
   "metadata": {
    "collapsed": false,
    "pycharm": {
     "name": "#%%\n"
    }
   }
  },
  {
   "cell_type": "code",
   "execution_count": 4,
   "outputs": [
    {
     "name": "stdout",
     "output_type": "stream",
     "text": [
      "<class 'pandas.core.frame.DataFrame'>\n",
      "Int64Index: 10000 entries, 0 to 9999\n",
      "Data columns (total 60 columns):\n",
      " #   Column  Non-Null Count  Dtype  \n",
      "---  ------  --------------  -----  \n",
      " 0   day_1   10000 non-null  float64\n",
      " 1   day_2   10000 non-null  float64\n",
      " 2   day_3   10000 non-null  float64\n",
      " 3   day_4   10000 non-null  float64\n",
      " 4   day_5   10000 non-null  float64\n",
      " 5   day_6   10000 non-null  float64\n",
      " 6   day_7   10000 non-null  float64\n",
      " 7   day_8   10000 non-null  float64\n",
      " 8   day_9   10000 non-null  float64\n",
      " 9   day_10  10000 non-null  float64\n",
      " 10  day_11  10000 non-null  float64\n",
      " 11  day_12  10000 non-null  float64\n",
      " 12  day_13  10000 non-null  float64\n",
      " 13  day_14  10000 non-null  float64\n",
      " 14  day_15  10000 non-null  float64\n",
      " 15  day_16  10000 non-null  float64\n",
      " 16  day_17  10000 non-null  float64\n",
      " 17  day_18  10000 non-null  float64\n",
      " 18  day_19  10000 non-null  float64\n",
      " 19  day_20  10000 non-null  float64\n",
      " 20  day_21  10000 non-null  float64\n",
      " 21  day_22  10000 non-null  float64\n",
      " 22  day_23  10000 non-null  float64\n",
      " 23  day_24  10000 non-null  float64\n",
      " 24  day_25  10000 non-null  float64\n",
      " 25  day_26  10000 non-null  float64\n",
      " 26  day_27  10000 non-null  float64\n",
      " 27  day_28  10000 non-null  float64\n",
      " 28  day_29  10000 non-null  float64\n",
      " 29  day_30  10000 non-null  float64\n",
      " 30  day_31  10000 non-null  float64\n",
      " 31  day_32  10000 non-null  float64\n",
      " 32  day_33  10000 non-null  float64\n",
      " 33  day_34  10000 non-null  float64\n",
      " 34  day_35  10000 non-null  float64\n",
      " 35  day_36  10000 non-null  float64\n",
      " 36  day_37  10000 non-null  float64\n",
      " 37  day_38  10000 non-null  float64\n",
      " 38  day_39  10000 non-null  float64\n",
      " 39  day_40  10000 non-null  float64\n",
      " 40  day_41  10000 non-null  float64\n",
      " 41  day_42  10000 non-null  float64\n",
      " 42  day_43  10000 non-null  float64\n",
      " 43  day_44  10000 non-null  float64\n",
      " 44  day_45  10000 non-null  float64\n",
      " 45  day_46  10000 non-null  float64\n",
      " 46  day_47  10000 non-null  float64\n",
      " 47  day_48  10000 non-null  float64\n",
      " 48  day_49  10000 non-null  float64\n",
      " 49  day_50  10000 non-null  float64\n",
      " 50  day_51  10000 non-null  float64\n",
      " 51  day_52  10000 non-null  float64\n",
      " 52  day_53  10000 non-null  float64\n",
      " 53  day_54  10000 non-null  float64\n",
      " 54  day_55  10000 non-null  float64\n",
      " 55  day_56  10000 non-null  float64\n",
      " 56  day_57  10000 non-null  float64\n",
      " 57  day_58  10000 non-null  float64\n",
      " 58  day_59  10000 non-null  float64\n",
      " 59  day_60  10000 non-null  float64\n",
      "dtypes: float64(60)\n",
      "memory usage: 4.7 MB\n"
     ]
    },
    {
     "data": {
      "text/plain": "              day_1         day_2         day_3         day_4         day_5  \\\ncount  10000.000000  10000.000000  10000.000000  10000.000000  10000.000000   \nmean       2.002066      2.002719      2.003328      2.002939      2.004232   \nstd        0.499634      0.498294      0.497039      0.495331      0.494949   \nmin        1.070030      1.070089      1.070173      1.070518      1.069969   \n25%        1.707308      1.714404      1.720282      1.717037      1.719595   \n50%        2.004109      2.004752      2.008498      2.006018      2.011828   \n75%        2.292451      2.294516      2.289924      2.288005      2.286993   \nmax        2.928596      2.929652      2.929081      2.929368      2.929602   \n\n              day_6         day_7         day_8         day_9        day_10  \\\ncount  10000.000000  10000.000000  10000.000000  10000.000000  10000.000000   \nmean       2.003964      2.004189      2.004339      2.004379      2.004549   \nstd        0.495048      0.495222      0.496170      0.496590      0.497196   \nmin        1.070909      1.070078      1.071269      1.070016      1.070351   \n25%        1.726962      1.725642      1.731331      1.723191      1.724931   \n50%        2.010492      2.004480      2.002067      2.002794      2.003254   \n75%        2.296187      2.303175      2.299779      2.302181      2.295706   \nmax        2.928788      2.929327      2.929351      2.929720      2.929158   \n\n       ...        day_51        day_52        day_53        day_54  \\\ncount  ...  10000.000000  10000.000000  10000.000000  10000.000000   \nmean   ...      2.000464      2.000073      1.999827      2.000198   \nstd    ...      0.501038      0.502797      0.504425      0.504625   \nmin    ...      1.070473      1.070517      1.069987      1.071675   \n25%    ...      1.703203      1.704192      1.705191      1.705129   \n50%    ...      1.997093      1.997385      1.993821      1.997269   \n75%    ...      2.304005      2.295833      2.299089      2.294304   \nmax    ...      2.929978      2.929537      2.929144      2.929972   \n\n             day_55        day_56        day_57        day_58        day_59  \\\ncount  10000.000000  10000.000000  10000.000000  10000.000000  10000.000000   \nmean       2.000265      2.000353      2.000598      2.000218      2.000220   \nstd        0.505075      0.504703      0.504843      0.503771      0.502892   \nmin        1.071669      1.070437      1.070300      1.070461      1.070185   \n25%        1.705592      1.698782      1.698782      1.702400      1.703778   \n50%        1.998801      1.999444      1.995747      1.999064      2.001048   \n75%        2.305782      2.311864      2.315050      2.311191      2.309248   \nmax        2.929591      2.929580      2.929995      2.930002      2.928401   \n\n             day_60  \ncount  10000.000000  \nmean       2.001334  \nstd        0.501385  \nmin        1.070698  \n25%        1.706322  \n50%        2.001889  \n75%        2.294744  \nmax        2.928707  \n\n[8 rows x 60 columns]",
      "text/html": "<div>\n<style scoped>\n    .dataframe tbody tr th:only-of-type {\n        vertical-align: middle;\n    }\n\n    .dataframe tbody tr th {\n        vertical-align: top;\n    }\n\n    .dataframe thead th {\n        text-align: right;\n    }\n</style>\n<table border=\"1\" class=\"dataframe\">\n  <thead>\n    <tr style=\"text-align: right;\">\n      <th></th>\n      <th>day_1</th>\n      <th>day_2</th>\n      <th>day_3</th>\n      <th>day_4</th>\n      <th>day_5</th>\n      <th>day_6</th>\n      <th>day_7</th>\n      <th>day_8</th>\n      <th>day_9</th>\n      <th>day_10</th>\n      <th>...</th>\n      <th>day_51</th>\n      <th>day_52</th>\n      <th>day_53</th>\n      <th>day_54</th>\n      <th>day_55</th>\n      <th>day_56</th>\n      <th>day_57</th>\n      <th>day_58</th>\n      <th>day_59</th>\n      <th>day_60</th>\n    </tr>\n  </thead>\n  <tbody>\n    <tr>\n      <th>count</th>\n      <td>10000.000000</td>\n      <td>10000.000000</td>\n      <td>10000.000000</td>\n      <td>10000.000000</td>\n      <td>10000.000000</td>\n      <td>10000.000000</td>\n      <td>10000.000000</td>\n      <td>10000.000000</td>\n      <td>10000.000000</td>\n      <td>10000.000000</td>\n      <td>...</td>\n      <td>10000.000000</td>\n      <td>10000.000000</td>\n      <td>10000.000000</td>\n      <td>10000.000000</td>\n      <td>10000.000000</td>\n      <td>10000.000000</td>\n      <td>10000.000000</td>\n      <td>10000.000000</td>\n      <td>10000.000000</td>\n      <td>10000.000000</td>\n    </tr>\n    <tr>\n      <th>mean</th>\n      <td>2.002066</td>\n      <td>2.002719</td>\n      <td>2.003328</td>\n      <td>2.002939</td>\n      <td>2.004232</td>\n      <td>2.003964</td>\n      <td>2.004189</td>\n      <td>2.004339</td>\n      <td>2.004379</td>\n      <td>2.004549</td>\n      <td>...</td>\n      <td>2.000464</td>\n      <td>2.000073</td>\n      <td>1.999827</td>\n      <td>2.000198</td>\n      <td>2.000265</td>\n      <td>2.000353</td>\n      <td>2.000598</td>\n      <td>2.000218</td>\n      <td>2.000220</td>\n      <td>2.001334</td>\n    </tr>\n    <tr>\n      <th>std</th>\n      <td>0.499634</td>\n      <td>0.498294</td>\n      <td>0.497039</td>\n      <td>0.495331</td>\n      <td>0.494949</td>\n      <td>0.495048</td>\n      <td>0.495222</td>\n      <td>0.496170</td>\n      <td>0.496590</td>\n      <td>0.497196</td>\n      <td>...</td>\n      <td>0.501038</td>\n      <td>0.502797</td>\n      <td>0.504425</td>\n      <td>0.504625</td>\n      <td>0.505075</td>\n      <td>0.504703</td>\n      <td>0.504843</td>\n      <td>0.503771</td>\n      <td>0.502892</td>\n      <td>0.501385</td>\n    </tr>\n    <tr>\n      <th>min</th>\n      <td>1.070030</td>\n      <td>1.070089</td>\n      <td>1.070173</td>\n      <td>1.070518</td>\n      <td>1.069969</td>\n      <td>1.070909</td>\n      <td>1.070078</td>\n      <td>1.071269</td>\n      <td>1.070016</td>\n      <td>1.070351</td>\n      <td>...</td>\n      <td>1.070473</td>\n      <td>1.070517</td>\n      <td>1.069987</td>\n      <td>1.071675</td>\n      <td>1.071669</td>\n      <td>1.070437</td>\n      <td>1.070300</td>\n      <td>1.070461</td>\n      <td>1.070185</td>\n      <td>1.070698</td>\n    </tr>\n    <tr>\n      <th>25%</th>\n      <td>1.707308</td>\n      <td>1.714404</td>\n      <td>1.720282</td>\n      <td>1.717037</td>\n      <td>1.719595</td>\n      <td>1.726962</td>\n      <td>1.725642</td>\n      <td>1.731331</td>\n      <td>1.723191</td>\n      <td>1.724931</td>\n      <td>...</td>\n      <td>1.703203</td>\n      <td>1.704192</td>\n      <td>1.705191</td>\n      <td>1.705129</td>\n      <td>1.705592</td>\n      <td>1.698782</td>\n      <td>1.698782</td>\n      <td>1.702400</td>\n      <td>1.703778</td>\n      <td>1.706322</td>\n    </tr>\n    <tr>\n      <th>50%</th>\n      <td>2.004109</td>\n      <td>2.004752</td>\n      <td>2.008498</td>\n      <td>2.006018</td>\n      <td>2.011828</td>\n      <td>2.010492</td>\n      <td>2.004480</td>\n      <td>2.002067</td>\n      <td>2.002794</td>\n      <td>2.003254</td>\n      <td>...</td>\n      <td>1.997093</td>\n      <td>1.997385</td>\n      <td>1.993821</td>\n      <td>1.997269</td>\n      <td>1.998801</td>\n      <td>1.999444</td>\n      <td>1.995747</td>\n      <td>1.999064</td>\n      <td>2.001048</td>\n      <td>2.001889</td>\n    </tr>\n    <tr>\n      <th>75%</th>\n      <td>2.292451</td>\n      <td>2.294516</td>\n      <td>2.289924</td>\n      <td>2.288005</td>\n      <td>2.286993</td>\n      <td>2.296187</td>\n      <td>2.303175</td>\n      <td>2.299779</td>\n      <td>2.302181</td>\n      <td>2.295706</td>\n      <td>...</td>\n      <td>2.304005</td>\n      <td>2.295833</td>\n      <td>2.299089</td>\n      <td>2.294304</td>\n      <td>2.305782</td>\n      <td>2.311864</td>\n      <td>2.315050</td>\n      <td>2.311191</td>\n      <td>2.309248</td>\n      <td>2.294744</td>\n    </tr>\n    <tr>\n      <th>max</th>\n      <td>2.928596</td>\n      <td>2.929652</td>\n      <td>2.929081</td>\n      <td>2.929368</td>\n      <td>2.929602</td>\n      <td>2.928788</td>\n      <td>2.929327</td>\n      <td>2.929351</td>\n      <td>2.929720</td>\n      <td>2.929158</td>\n      <td>...</td>\n      <td>2.929978</td>\n      <td>2.929537</td>\n      <td>2.929144</td>\n      <td>2.929972</td>\n      <td>2.929591</td>\n      <td>2.929580</td>\n      <td>2.929995</td>\n      <td>2.930002</td>\n      <td>2.928401</td>\n      <td>2.928707</td>\n    </tr>\n  </tbody>\n</table>\n<p>8 rows × 60 columns</p>\n</div>"
     },
     "execution_count": 4,
     "metadata": {},
     "output_type": "execute_result"
    }
   ],
   "source": [
    "revenue.info()\n",
    "revenue.describe()"
   ],
   "metadata": {
    "collapsed": false,
    "pycharm": {
     "name": "#%%\n"
    }
   }
  },
  {
   "cell_type": "code",
   "execution_count": 12,
   "outputs": [],
   "source": [
    "device = torch.device('cuda' if torch.cuda.is_available else 'cpu')\n",
    "# hyper parameters\n",
    "num_epochs = 30\n",
    "num_classes = 10\n",
    "seq_length = 10\n",
    "hidden_size = 10\n",
    "batch_size = 10\n",
    "learning_rate = 1e-3"
   ],
   "metadata": {
    "collapsed": false,
    "pycharm": {
     "name": "#%%\n"
    }
   }
  },
  {
   "cell_type": "code",
   "execution_count": 6,
   "outputs": [],
   "source": [
    "test_loader = torch.utils.data.DataLoader(sale.values, batch_size=batch_size, shuffle=True)"
   ],
   "metadata": {
    "collapsed": false,
    "pycharm": {
     "name": "#%%\n"
    }
   }
  },
  {
   "cell_type": "code",
   "execution_count": 7,
   "outputs": [],
   "source": [
    "class RNN(nn.Module):\n",
    "    def __init__(self):\n",
    "        super(RNN, self).__init__()"
   ],
   "metadata": {
    "collapsed": false,
    "pycharm": {
     "name": "#%%\n"
    }
   }
  },
  {
   "cell_type": "code",
   "execution_count": 11,
   "outputs": [
    {
     "data": {
      "text/plain": "torch.Size([10, 52])"
     },
     "execution_count": 11,
     "metadata": {},
     "output_type": "execute_result"
    }
   ],
   "source": [
    "batch_data = next(iter(test_loader))\n",
    "batch_data.shape"
   ],
   "metadata": {
    "collapsed": false,
    "pycharm": {
     "name": "#%%\n"
    }
   }
  },
  {
   "cell_type": "code",
   "execution_count": null,
   "outputs": [],
   "source": [],
   "metadata": {
    "collapsed": false,
    "pycharm": {
     "name": "#%%\n"
    }
   }
  },
  {
   "cell_type": "code",
   "execution_count": null,
   "outputs": [],
   "source": [
    "for i, data in enumerate(test_loader):\n",
    "    random_index = random.randint(0, data.shape[-1] - seq_length - 1)\n",
    "    train_x = data[:, random_index: random_index + seq_length]\n",
    "    train_y = data[:, random_index + 1: random_index + seq_length + 1]\n"
   ],
   "metadata": {
    "collapsed": false,
    "pycharm": {
     "name": "#%%\n"
    }
   }
  }
 ],
 "metadata": {
  "kernelspec": {
   "display_name": "Python 3",
   "language": "python",
   "name": "python3"
  },
  "language_info": {
   "codemirror_mode": {
    "name": "ipython",
    "version": 2
   },
   "file_extension": ".py",
   "mimetype": "text/x-python",
   "name": "python",
   "nbconvert_exporter": "python",
   "pygments_lexer": "ipython2",
   "version": "2.7.6"
  }
 },
 "nbformat": 4,
 "nbformat_minor": 0
}