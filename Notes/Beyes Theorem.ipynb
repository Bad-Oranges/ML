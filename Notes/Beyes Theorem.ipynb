{
 "cells": [
  {
   "cell_type": "markdown",
   "metadata": {
    "collapsed": true,
    "pycharm": {
     "name": "#%% md\n"
    }
   },
   "source": [
    "### Simple form\n",
    "\n",
    "For events A and B, provided that P(B) $ \\neq $ 0\n",
    "$ P(A|B)=\\frac{P(B|A)P(A)}{P(B)} $\n",
    "\n",
    "### Alternative form\n",
    "\n",
    "$ P(A_i|B)=\\frac{P(B|A)P(A)}{P(B|A)P(A)+P(B|\\neg A)P(\\neg A)} $\n",
    "\n",
    "- $ P(A) $ is the prior probability, the initial degree of belief in A\n",
    "- $ P(B|A) $ is the conditional probability, the degree of belief in B given that proposition A is True\n",
    "- $ P(A|B) $ is the posterior probability, the probability of A after taking into account B\n",
    "\n",
    "### Extended form\n",
    "\n",
    "$ P(A_i|B)=\\frac{P(A_i)P(B|S_i)}{\\sum\\limits_{i=1}^{n}P(A_i)P(B|A_i)} $"
   ]
  },
  {
   "cell_type": "code",
   "execution_count": null,
   "outputs": [],
   "source": [],
   "metadata": {
    "collapsed": false,
    "pycharm": {
     "name": "#%%\n"
    }
   }
  }
 ],
 "metadata": {
  "kernelspec": {
   "display_name": "Python 3",
   "language": "python",
   "name": "python3"
  },
  "language_info": {
   "codemirror_mode": {
    "name": "ipython",
    "version": 2
   },
   "file_extension": ".py",
   "mimetype": "text/x-python",
   "name": "python",
   "nbconvert_exporter": "python",
   "pygments_lexer": "ipython2",
   "version": "2.7.6"
  }
 },
 "nbformat": 4,
 "nbformat_minor": 0
}