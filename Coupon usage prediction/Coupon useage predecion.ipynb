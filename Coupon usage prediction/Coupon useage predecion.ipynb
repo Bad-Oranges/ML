{
 "cells": [
  {
   "cell_type": "code",
   "execution_count": 38,
   "metadata": {
    "collapsed": true
   },
   "outputs": [],
   "source": [
    "import pandas as pd\n",
    "from sklearn.tree import DecisionTreeClassifier\n",
    "from sklearn.model_selection import train_test_split\n",
    "from sklearn.metrics import accuracy_score\n",
    "\n",
    "import seaborn as sns"
   ]
  },
  {
   "cell_type": "code",
   "execution_count": 13,
   "outputs": [
    {
     "name": "stdout",
     "output_type": "stream",
     "text": [
      "<class 'pandas.core.frame.DataFrame'>\n",
      "RangeIndex: 1754884 entries, 0 to 1754883\n",
      "Data columns (total 7 columns):\n",
      " #   Column         Dtype  \n",
      "---  ------         -----  \n",
      " 0   User_id        int64  \n",
      " 1   Merchant_id    int64  \n",
      " 2   Coupon_id      float64\n",
      " 3   Discount_rate  object \n",
      " 4   Distance       float64\n",
      " 5   Date_received  float64\n",
      " 6   Date           float64\n",
      "dtypes: float64(4), int64(2), object(1)\n",
      "memory usage: 93.7+ MB\n"
     ]
    },
    {
     "data": {
      "text/plain": "            User_id   Merchant_id     Coupon_id      Distance  Date_received  \\\ncount  1.754884e+06  1.754884e+06  1.053282e+06  1.648881e+06   1.053282e+06   \nmean   3.689255e+06  4.038808e+03  6.815398e+03  2.361636e+00   2.016032e+07   \nstd    2.123428e+06  2.435963e+03  4.174276e+03  3.483974e+00   1.771416e+02   \nmin    4.000000e+00  1.000000e+00  1.000000e+00  0.000000e+00   2.016010e+07   \n25%    1.845052e+06  1.983000e+03  2.840000e+03  0.000000e+00   2.016013e+07   \n50%    3.694446e+06  3.532000e+03  7.430000e+03  0.000000e+00   2.016032e+07   \n75%    5.528759e+06  6.329000e+03  1.032300e+04  3.000000e+00   2.016051e+07   \nmax    7.361032e+06  8.856000e+03  1.404500e+04  1.000000e+01   2.016062e+07   \n\n               Date  \ncount  7.769840e+05  \nmean   2.016040e+07  \nstd    1.621500e+02  \nmin    2.016010e+07  \n25%    2.016031e+07  \n50%    2.016042e+07  \n75%    2.016052e+07  \nmax    2.016063e+07  ",
      "text/html": "<div>\n<style scoped>\n    .dataframe tbody tr th:only-of-type {\n        vertical-align: middle;\n    }\n\n    .dataframe tbody tr th {\n        vertical-align: top;\n    }\n\n    .dataframe thead th {\n        text-align: right;\n    }\n</style>\n<table border=\"1\" class=\"dataframe\">\n  <thead>\n    <tr style=\"text-align: right;\">\n      <th></th>\n      <th>User_id</th>\n      <th>Merchant_id</th>\n      <th>Coupon_id</th>\n      <th>Distance</th>\n      <th>Date_received</th>\n      <th>Date</th>\n    </tr>\n  </thead>\n  <tbody>\n    <tr>\n      <th>count</th>\n      <td>1.754884e+06</td>\n      <td>1.754884e+06</td>\n      <td>1.053282e+06</td>\n      <td>1.648881e+06</td>\n      <td>1.053282e+06</td>\n      <td>7.769840e+05</td>\n    </tr>\n    <tr>\n      <th>mean</th>\n      <td>3.689255e+06</td>\n      <td>4.038808e+03</td>\n      <td>6.815398e+03</td>\n      <td>2.361636e+00</td>\n      <td>2.016032e+07</td>\n      <td>2.016040e+07</td>\n    </tr>\n    <tr>\n      <th>std</th>\n      <td>2.123428e+06</td>\n      <td>2.435963e+03</td>\n      <td>4.174276e+03</td>\n      <td>3.483974e+00</td>\n      <td>1.771416e+02</td>\n      <td>1.621500e+02</td>\n    </tr>\n    <tr>\n      <th>min</th>\n      <td>4.000000e+00</td>\n      <td>1.000000e+00</td>\n      <td>1.000000e+00</td>\n      <td>0.000000e+00</td>\n      <td>2.016010e+07</td>\n      <td>2.016010e+07</td>\n    </tr>\n    <tr>\n      <th>25%</th>\n      <td>1.845052e+06</td>\n      <td>1.983000e+03</td>\n      <td>2.840000e+03</td>\n      <td>0.000000e+00</td>\n      <td>2.016013e+07</td>\n      <td>2.016031e+07</td>\n    </tr>\n    <tr>\n      <th>50%</th>\n      <td>3.694446e+06</td>\n      <td>3.532000e+03</td>\n      <td>7.430000e+03</td>\n      <td>0.000000e+00</td>\n      <td>2.016032e+07</td>\n      <td>2.016042e+07</td>\n    </tr>\n    <tr>\n      <th>75%</th>\n      <td>5.528759e+06</td>\n      <td>6.329000e+03</td>\n      <td>1.032300e+04</td>\n      <td>3.000000e+00</td>\n      <td>2.016051e+07</td>\n      <td>2.016052e+07</td>\n    </tr>\n    <tr>\n      <th>max</th>\n      <td>7.361032e+06</td>\n      <td>8.856000e+03</td>\n      <td>1.404500e+04</td>\n      <td>1.000000e+01</td>\n      <td>2.016062e+07</td>\n      <td>2.016063e+07</td>\n    </tr>\n  </tbody>\n</table>\n</div>"
     },
     "execution_count": 13,
     "metadata": {},
     "output_type": "execute_result"
    }
   ],
   "source": [
    "data = pd.read_csv('../data/ccf_offline_stage1_train.csv')\n",
    "data.info()\n",
    "data.describe()"
   ],
   "metadata": {
    "collapsed": false,
    "pycharm": {
     "name": "#%%\n"
    }
   }
  },
  {
   "cell_type": "code",
   "execution_count": 27,
   "outputs": [
    {
     "data": {
      "text/plain": "    User_id  Merchant_id  Coupon_id  Discount_rate  Distance  Date_received  \\\n6   1439408         2632     8591.0              1       0.0     20160516.0   \n33  1113008         1361    11166.0              1       0.0     20160515.0   \n38  2881376         8390     7531.0              1       0.0     20160321.0   \n69   114747         6901     2366.0              1       0.0     20160523.0   \n75   114747         5341      111.0              1       0.0     20160127.0   \n\n          Date  \n6   20160613.0  \n33  20160521.0  \n38  20160329.0  \n69  20160605.0  \n75  20160221.0  ",
      "text/html": "<div>\n<style scoped>\n    .dataframe tbody tr th:only-of-type {\n        vertical-align: middle;\n    }\n\n    .dataframe tbody tr th {\n        vertical-align: top;\n    }\n\n    .dataframe thead th {\n        text-align: right;\n    }\n</style>\n<table border=\"1\" class=\"dataframe\">\n  <thead>\n    <tr style=\"text-align: right;\">\n      <th></th>\n      <th>User_id</th>\n      <th>Merchant_id</th>\n      <th>Coupon_id</th>\n      <th>Discount_rate</th>\n      <th>Distance</th>\n      <th>Date_received</th>\n      <th>Date</th>\n    </tr>\n  </thead>\n  <tbody>\n    <tr>\n      <th>6</th>\n      <td>1439408</td>\n      <td>2632</td>\n      <td>8591.0</td>\n      <td>1</td>\n      <td>0.0</td>\n      <td>20160516.0</td>\n      <td>20160613.0</td>\n    </tr>\n    <tr>\n      <th>33</th>\n      <td>1113008</td>\n      <td>1361</td>\n      <td>11166.0</td>\n      <td>1</td>\n      <td>0.0</td>\n      <td>20160515.0</td>\n      <td>20160521.0</td>\n    </tr>\n    <tr>\n      <th>38</th>\n      <td>2881376</td>\n      <td>8390</td>\n      <td>7531.0</td>\n      <td>1</td>\n      <td>0.0</td>\n      <td>20160321.0</td>\n      <td>20160329.0</td>\n    </tr>\n    <tr>\n      <th>69</th>\n      <td>114747</td>\n      <td>6901</td>\n      <td>2366.0</td>\n      <td>1</td>\n      <td>0.0</td>\n      <td>20160523.0</td>\n      <td>20160605.0</td>\n    </tr>\n    <tr>\n      <th>75</th>\n      <td>114747</td>\n      <td>5341</td>\n      <td>111.0</td>\n      <td>1</td>\n      <td>0.0</td>\n      <td>20160127.0</td>\n      <td>20160221.0</td>\n    </tr>\n  </tbody>\n</table>\n</div>"
     },
     "execution_count": 27,
     "metadata": {},
     "output_type": "execute_result"
    }
   ],
   "source": [
    "data.head(5)"
   ],
   "metadata": {
    "collapsed": false,
    "pycharm": {
     "name": "#%%\n"
    }
   }
  },
  {
   "cell_type": "markdown",
   "source": [
    "## Preprocessing"
   ],
   "metadata": {
    "collapsed": false,
    "pycharm": {
     "name": "#%% md\n"
    }
   }
  },
  {
   "cell_type": "code",
   "execution_count": 15,
   "outputs": [],
   "source": [
    "data = data.dropna(how='any')"
   ],
   "metadata": {
    "collapsed": false,
    "pycharm": {
     "name": "#%%\n"
    }
   }
  },
  {
   "cell_type": "code",
   "execution_count": 23,
   "outputs": [],
   "source": [
    "data['Discount_rate'] = data['Discount_rate'].apply(lambda x: 1 if ':' in x else 0)"
   ],
   "metadata": {
    "collapsed": false,
    "pycharm": {
     "name": "#%%\n"
    }
   }
  },
  {
   "cell_type": "code",
   "execution_count": 28,
   "outputs": [
    {
     "data": {
      "text/plain": "    User_id  Merchant_id  Coupon_id  Discount_rate  Distance  Date_received  \\\n6   1439408         2632     8591.0              1       0.0     20160516.0   \n33  1113008         1361    11166.0              1       0.0     20160515.0   \n38  2881376         8390     7531.0              1       0.0     20160321.0   \n69   114747         6901     2366.0              1       0.0     20160523.0   \n75   114747         5341      111.0              1       0.0     20160127.0   \n\n          Date  \n6   20160613.0  \n33  20160521.0  \n38  20160329.0  \n69  20160605.0  \n75  20160221.0  ",
      "text/html": "<div>\n<style scoped>\n    .dataframe tbody tr th:only-of-type {\n        vertical-align: middle;\n    }\n\n    .dataframe tbody tr th {\n        vertical-align: top;\n    }\n\n    .dataframe thead th {\n        text-align: right;\n    }\n</style>\n<table border=\"1\" class=\"dataframe\">\n  <thead>\n    <tr style=\"text-align: right;\">\n      <th></th>\n      <th>User_id</th>\n      <th>Merchant_id</th>\n      <th>Coupon_id</th>\n      <th>Discount_rate</th>\n      <th>Distance</th>\n      <th>Date_received</th>\n      <th>Date</th>\n    </tr>\n  </thead>\n  <tbody>\n    <tr>\n      <th>6</th>\n      <td>1439408</td>\n      <td>2632</td>\n      <td>8591.0</td>\n      <td>1</td>\n      <td>0.0</td>\n      <td>20160516.0</td>\n      <td>20160613.0</td>\n    </tr>\n    <tr>\n      <th>33</th>\n      <td>1113008</td>\n      <td>1361</td>\n      <td>11166.0</td>\n      <td>1</td>\n      <td>0.0</td>\n      <td>20160515.0</td>\n      <td>20160521.0</td>\n    </tr>\n    <tr>\n      <th>38</th>\n      <td>2881376</td>\n      <td>8390</td>\n      <td>7531.0</td>\n      <td>1</td>\n      <td>0.0</td>\n      <td>20160321.0</td>\n      <td>20160329.0</td>\n    </tr>\n    <tr>\n      <th>69</th>\n      <td>114747</td>\n      <td>6901</td>\n      <td>2366.0</td>\n      <td>1</td>\n      <td>0.0</td>\n      <td>20160523.0</td>\n      <td>20160605.0</td>\n    </tr>\n    <tr>\n      <th>75</th>\n      <td>114747</td>\n      <td>5341</td>\n      <td>111.0</td>\n      <td>1</td>\n      <td>0.0</td>\n      <td>20160127.0</td>\n      <td>20160221.0</td>\n    </tr>\n  </tbody>\n</table>\n</div>"
     },
     "execution_count": 28,
     "metadata": {},
     "output_type": "execute_result"
    }
   ],
   "source": [
    "data.head()"
   ],
   "metadata": {
    "collapsed": false,
    "pycharm": {
     "name": "#%%\n"
    }
   }
  },
  {
   "cell_type": "markdown",
   "source": [
    "用户在领取优惠券之后 15 之内的消费情况\n",
    "\n",
    "(Date - Date_received <= 15) 表示领取优惠券且在15天内使用，即正样本，y = 1\n",
    "(Date - Date_received > 15) 表示领取优惠券未在15天内使用，即负样本，y = 0"
   ],
   "metadata": {
    "collapsed": false,
    "pycharm": {
     "name": "#%% md\n"
    }
   }
  },
  {
   "cell_type": "code",
   "execution_count": 32,
   "outputs": [
    {
     "data": {
      "text/plain": "         User_id  Merchant_id  Coupon_id  Discount_rate  Distance  \\\n6        1439408         2632     8591.0              1       0.0   \n33       1113008         1361    11166.0              1       0.0   \n38       2881376         8390     7531.0              1       0.0   \n69        114747         6901     2366.0              1       0.0   \n75        114747         5341      111.0              1       0.0   \n...          ...          ...        ...            ...       ...   \n1754833  1437872         7706      416.0              1       4.0   \n1754873   212662         2934     5686.0              1       2.0   \n1754877   212662         3021     3739.0              1       6.0   \n1754878   212662         2934     5686.0              1       2.0   \n1754880   212662         3021     3739.0              1       6.0   \n\n         Date_received        Date  label  \n6           20160516.0  20160613.0      0  \n33          20160515.0  20160521.0      1  \n38          20160321.0  20160329.0      1  \n69          20160523.0  20160605.0      1  \n75          20160127.0  20160221.0      0  \n...                ...         ...    ...  \n1754833     20160129.0  20160202.0      1  \n1754873     20160321.0  20160330.0      1  \n1754877     20160504.0  20160508.0      1  \n1754878     20160321.0  20160322.0      1  \n1754880     20160508.0  20160602.0      0  \n\n[67165 rows x 8 columns]",
      "text/html": "<div>\n<style scoped>\n    .dataframe tbody tr th:only-of-type {\n        vertical-align: middle;\n    }\n\n    .dataframe tbody tr th {\n        vertical-align: top;\n    }\n\n    .dataframe thead th {\n        text-align: right;\n    }\n</style>\n<table border=\"1\" class=\"dataframe\">\n  <thead>\n    <tr style=\"text-align: right;\">\n      <th></th>\n      <th>User_id</th>\n      <th>Merchant_id</th>\n      <th>Coupon_id</th>\n      <th>Discount_rate</th>\n      <th>Distance</th>\n      <th>Date_received</th>\n      <th>Date</th>\n      <th>label</th>\n    </tr>\n  </thead>\n  <tbody>\n    <tr>\n      <th>6</th>\n      <td>1439408</td>\n      <td>2632</td>\n      <td>8591.0</td>\n      <td>1</td>\n      <td>0.0</td>\n      <td>20160516.0</td>\n      <td>20160613.0</td>\n      <td>0</td>\n    </tr>\n    <tr>\n      <th>33</th>\n      <td>1113008</td>\n      <td>1361</td>\n      <td>11166.0</td>\n      <td>1</td>\n      <td>0.0</td>\n      <td>20160515.0</td>\n      <td>20160521.0</td>\n      <td>1</td>\n    </tr>\n    <tr>\n      <th>38</th>\n      <td>2881376</td>\n      <td>8390</td>\n      <td>7531.0</td>\n      <td>1</td>\n      <td>0.0</td>\n      <td>20160321.0</td>\n      <td>20160329.0</td>\n      <td>1</td>\n    </tr>\n    <tr>\n      <th>69</th>\n      <td>114747</td>\n      <td>6901</td>\n      <td>2366.0</td>\n      <td>1</td>\n      <td>0.0</td>\n      <td>20160523.0</td>\n      <td>20160605.0</td>\n      <td>1</td>\n    </tr>\n    <tr>\n      <th>75</th>\n      <td>114747</td>\n      <td>5341</td>\n      <td>111.0</td>\n      <td>1</td>\n      <td>0.0</td>\n      <td>20160127.0</td>\n      <td>20160221.0</td>\n      <td>0</td>\n    </tr>\n    <tr>\n      <th>...</th>\n      <td>...</td>\n      <td>...</td>\n      <td>...</td>\n      <td>...</td>\n      <td>...</td>\n      <td>...</td>\n      <td>...</td>\n      <td>...</td>\n    </tr>\n    <tr>\n      <th>1754833</th>\n      <td>1437872</td>\n      <td>7706</td>\n      <td>416.0</td>\n      <td>1</td>\n      <td>4.0</td>\n      <td>20160129.0</td>\n      <td>20160202.0</td>\n      <td>1</td>\n    </tr>\n    <tr>\n      <th>1754873</th>\n      <td>212662</td>\n      <td>2934</td>\n      <td>5686.0</td>\n      <td>1</td>\n      <td>2.0</td>\n      <td>20160321.0</td>\n      <td>20160330.0</td>\n      <td>1</td>\n    </tr>\n    <tr>\n      <th>1754877</th>\n      <td>212662</td>\n      <td>3021</td>\n      <td>3739.0</td>\n      <td>1</td>\n      <td>6.0</td>\n      <td>20160504.0</td>\n      <td>20160508.0</td>\n      <td>1</td>\n    </tr>\n    <tr>\n      <th>1754878</th>\n      <td>212662</td>\n      <td>2934</td>\n      <td>5686.0</td>\n      <td>1</td>\n      <td>2.0</td>\n      <td>20160321.0</td>\n      <td>20160322.0</td>\n      <td>1</td>\n    </tr>\n    <tr>\n      <th>1754880</th>\n      <td>212662</td>\n      <td>3021</td>\n      <td>3739.0</td>\n      <td>1</td>\n      <td>6.0</td>\n      <td>20160508.0</td>\n      <td>20160602.0</td>\n      <td>0</td>\n    </tr>\n  </tbody>\n</table>\n<p>67165 rows × 8 columns</p>\n</div>"
     },
     "execution_count": 32,
     "metadata": {},
     "output_type": "execute_result"
    }
   ],
   "source": [
    "data['label'] = (pd.to_datetime(data['Date'], format='%Y%m%d') - pd.to_datetime(data['Date_received'], format='%Y%m%d')).apply(lambda x: 1 if x <= pd.Timedelta(15, 'D') else 0)\n",
    "data"
   ],
   "metadata": {
    "collapsed": false,
    "pycharm": {
     "name": "#%%\n"
    }
   }
  },
  {
   "cell_type": "code",
   "execution_count": 39,
   "outputs": [
    {
     "data": {
      "text/plain": "<AxesSubplot:>"
     },
     "execution_count": 39,
     "metadata": {},
     "output_type": "execute_result"
    },
    {
     "data": {
      "text/plain": "<Figure size 432x288 with 2 Axes>",
      "image/png": "[encoded data removed]"
     },
     "metadata": {
      "needs_background": "light"
     },
     "output_type": "display_data"
    }
   ],
   "source": [
    "sns.heatmap(data.corr(), cmap='coolwarm')"
   ],
   "metadata": {
    "collapsed": false,
    "pycharm": {
     "name": "#%%\n"
    }
   }
  },
  {
   "cell_type": "code",
   "execution_count": null,
   "outputs": [],
   "source": [
    "print(data['label'].value_counts())"
   ],
   "metadata": {
    "collapsed": false,
    "pycharm": {
     "name": "#%%\n"
    }
   }
  },
  {
   "cell_type": "markdown",
   "source": [
    "可以看到样本数据并不均匀，在这里没有进行处理直接训练了，可能以后会优化这里的代码，留个坑~"
   ],
   "metadata": {
    "collapsed": false
   }
  },
  {
   "cell_type": "code",
   "execution_count": 35,
   "outputs": [],
   "source": [
    "y_data = data['label']\n",
    "x_data = data.drop(columns=['label'])"
   ],
   "metadata": {
    "collapsed": false,
    "pycharm": {
     "name": "#%%\n"
    }
   }
  },
  {
   "cell_type": "code",
   "execution_count": 36,
   "outputs": [
    {
     "name": "stdout",
     "output_type": "stream",
     "text": [
      "(53732, 7) (13433, 7)\n"
     ]
    }
   ],
   "source": [
    "x_train, x_test, y_train, y_test = train_test_split(x_data, y_data, test_size=0.2)\n",
    "print(x_train.shape, x_test.shape)"
   ],
   "metadata": {
    "collapsed": false,
    "pycharm": {
     "name": "#%%\n"
    }
   }
  },
  {
   "cell_type": "code",
   "execution_count": 49,
   "outputs": [],
   "source": [
    "model = DecisionTreeClassifier(max_depth=5, random_state=1)"
   ],
   "metadata": {
    "collapsed": false,
    "pycharm": {
     "name": "#%%\n"
    }
   }
  },
  {
   "cell_type": "code",
   "source": [
    "model.fit(x_train, y_train)\n",
    "accuracy_score(y_test, model.predict(x_test))"
   ],
   "metadata": {
    "collapsed": false,
    "pycharm": {
     "name": "#%%\n"
    }
   },
   "execution_count": 56,
   "outputs": [
    {
     "data": {
      "text/plain": "0.9335219236209336"
     },
     "execution_count": 56,
     "metadata": {},
     "output_type": "execute_result"
    }
   ]
  },
  {
   "cell_type": "code",
   "execution_count": 58,
   "outputs": [
    {
     "name": "stdout",
     "output_type": "stream",
     "text": [
      "              precision    recall  f1-score   support\n",
      "\n",
      "           0       0.91      0.64      0.75      2096\n",
      "           1       0.94      0.99      0.96     11337\n",
      "\n",
      "    accuracy                           0.93     13433\n",
      "   macro avg       0.92      0.81      0.86     13433\n",
      "weighted avg       0.93      0.93      0.93     13433\n",
      "\n"
     ]
    }
   ],
   "source": [
    "from sklearn.metrics import classification_report\n",
    "print(classification_report(y_test, model.predict(x_test)))"
   ],
   "metadata": {
    "collapsed": false,
    "pycharm": {
     "name": "#%%\n"
    }
   }
  },
  {
   "cell_type": "markdown",
   "source": [
    "Other criterion options"
   ],
   "metadata": {
    "collapsed": false,
    "pycharm": {
     "name": "#%% md\n"
    }
   }
  },
  {
   "cell_type": "code",
   "execution_count": 61,
   "outputs": [
    {
     "data": {
      "text/plain": "0.9265242313705054"
     },
     "execution_count": 61,
     "metadata": {},
     "output_type": "execute_result"
    }
   ],
   "source": [
    "model2 = DecisionTreeClassifier(criterion='entropy', random_state=1, max_depth=5)\n",
    "model2.fit(x_test, y_test)\n",
    "accuracy_score(y_test, model2.predict(x_test))"
   ],
   "metadata": {
    "collapsed": false,
    "pycharm": {
     "name": "#%%\n"
    }
   }
  }
 ],
 "metadata": {
  "kernelspec": {
   "display_name": "Python 3",
   "language": "python",
   "name": "python3"
  },
  "language_info": {
   "codemirror_mode": {
    "name": "ipython",
    "version": 2
   },
   "file_extension": ".py",
   "mimetype": "text/x-python",
   "name": "python",
   "nbconvert_exporter": "python",
   "pygments_lexer": "ipython2",
   "version": "2.7.6"
  }
 },
 "nbformat": 4,
 "nbformat_minor": 0
}