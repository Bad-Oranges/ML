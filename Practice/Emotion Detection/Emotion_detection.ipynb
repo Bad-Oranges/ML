{
 "cells": [
  {
   "cell_type": "code",
   "execution_count": 2,
   "id": "45121472",
   "metadata": {
    "_cell_guid": "b1076dfc-b9ad-4769-8c92-a6c4dae69d19",
    "_uuid": "8f2839f25d086af736a60e9eeb907d3b93b6e0e5",
    "execution": {
     "iopub.execute_input": "2021-12-08T23:35:56.606204Z",
     "iopub.status.busy": "2021-12-08T23:35:56.601022Z",
     "iopub.status.idle": "2021-12-09T02:27:54.575211Z",
     "shell.execute_reply": "2021-12-09T02:27:54.576011Z",
     "shell.execute_reply.started": "2021-12-08T00:55:45.396738Z"
    },
    "papermill": {
     "duration": 10318.005685,
     "end_time": "2021-12-09T02:27:54.577029",
     "exception": false,
     "start_time": "2021-12-08T23:35:56.571344",
     "status": "completed"
    },
    "tags": []
   },
   "outputs": [
    {
     "ename": "OSError",
     "evalue": "[WinError 126] 找不到指定的模块。 Error loading \"D:\\Programming\\python\\Anaconda\\envs\\AI\\lib\\site-packages\\torch\\lib\\torch_python.dll\" or one of its dependencies.",
     "output_type": "error",
     "traceback": [
      "\u001B[1;31m---------------------------------------------------------------------------\u001B[0m",
      "\u001B[1;31mOSError\u001B[0m                                   Traceback (most recent call last)",
      "\u001B[1;32mC:\\Users\\EDENXI~1\\AppData\\Local\\Temp/ipykernel_13548/3003704914.py\u001B[0m in \u001B[0;36m<module>\u001B[1;34m\u001B[0m\n\u001B[0;32m      1\u001B[0m \u001B[1;32mimport\u001B[0m \u001B[0mmatplotlib\u001B[0m\u001B[1;33m.\u001B[0m\u001B[0mpyplot\u001B[0m \u001B[1;32mas\u001B[0m \u001B[0mplt\u001B[0m\u001B[1;33m\u001B[0m\u001B[1;33m\u001B[0m\u001B[0m\n\u001B[0;32m      2\u001B[0m \u001B[1;32mimport\u001B[0m \u001B[0mnumpy\u001B[0m \u001B[1;32mas\u001B[0m \u001B[0mnp\u001B[0m\u001B[1;33m\u001B[0m\u001B[1;33m\u001B[0m\u001B[0m\n\u001B[1;32m----> 3\u001B[1;33m \u001B[1;32mimport\u001B[0m \u001B[0mtorch\u001B[0m\u001B[1;33m\u001B[0m\u001B[1;33m\u001B[0m\u001B[0m\n\u001B[0m\u001B[0;32m      4\u001B[0m \u001B[1;32mfrom\u001B[0m \u001B[0mtorch\u001B[0m \u001B[1;32mimport\u001B[0m \u001B[0mnn\u001B[0m\u001B[1;33m\u001B[0m\u001B[1;33m\u001B[0m\u001B[0m\n\u001B[0;32m      5\u001B[0m \u001B[1;32mfrom\u001B[0m \u001B[0mtorchvision\u001B[0m \u001B[1;32mimport\u001B[0m \u001B[0mdatasets\u001B[0m\u001B[1;33m,\u001B[0m \u001B[0mtransforms\u001B[0m\u001B[1;33m\u001B[0m\u001B[1;33m\u001B[0m\u001B[0m\n",
      "\u001B[1;32mD:\\Programming\\python\\Anaconda\\envs\\AI\\lib\\site-packages\\torch\\__init__.py\u001B[0m in \u001B[0;36m<module>\u001B[1;34m\u001B[0m\n\u001B[0;32m    133\u001B[0m                 \u001B[0merr\u001B[0m \u001B[1;33m=\u001B[0m \u001B[0mctypes\u001B[0m\u001B[1;33m.\u001B[0m\u001B[0mWinError\u001B[0m\u001B[1;33m(\u001B[0m\u001B[0mctypes\u001B[0m\u001B[1;33m.\u001B[0m\u001B[0mget_last_error\u001B[0m\u001B[1;33m(\u001B[0m\u001B[1;33m)\u001B[0m\u001B[1;33m)\u001B[0m\u001B[1;33m\u001B[0m\u001B[1;33m\u001B[0m\u001B[0m\n\u001B[0;32m    134\u001B[0m                 \u001B[0merr\u001B[0m\u001B[1;33m.\u001B[0m\u001B[0mstrerror\u001B[0m \u001B[1;33m+=\u001B[0m \u001B[1;34mf' Error loading \"{dll}\" or one of its dependencies.'\u001B[0m\u001B[1;33m\u001B[0m\u001B[1;33m\u001B[0m\u001B[0m\n\u001B[1;32m--> 135\u001B[1;33m                 \u001B[1;32mraise\u001B[0m \u001B[0merr\u001B[0m\u001B[1;33m\u001B[0m\u001B[1;33m\u001B[0m\u001B[0m\n\u001B[0m\u001B[0;32m    136\u001B[0m \u001B[1;33m\u001B[0m\u001B[0m\n\u001B[0;32m    137\u001B[0m     \u001B[0mkernel32\u001B[0m\u001B[1;33m.\u001B[0m\u001B[0mSetErrorMode\u001B[0m\u001B[1;33m(\u001B[0m\u001B[0mprev_error_mode\u001B[0m\u001B[1;33m)\u001B[0m\u001B[1;33m\u001B[0m\u001B[1;33m\u001B[0m\u001B[0m\n",
      "\u001B[1;31mOSError\u001B[0m: [WinError 126] 找不到指定的模块。 Error loading \"D:\\Programming\\python\\Anaconda\\envs\\AI\\lib\\site-packages\\torch\\lib\\torch_python.dll\" or one of its dependencies."
     ]
    }
   ],
   "source": [
    "import matplotlib.pyplot as plt\n",
    "import numpy as np\n",
    "import torch\n",
    "from torch import nn\n",
    "from torchvision import datasets, transforms\n",
    "import torch.nn.functional as F\n",
    "import torch.optim as optim"
   ]
  },
  {
   "cell_type": "code",
   "execution_count": null,
   "outputs": [],
   "source": [
    "# Hyper param\n",
    "epoch_num = 20\n",
    "batch_size = 64\n",
    "lr = 1e-3\n",
    "class_num = 7"
   ],
   "metadata": {
    "collapsed": false,
    "pycharm": {
     "name": "#%%\n"
    }
   }
  },
  {
   "cell_type": "code",
   "execution_count": null,
   "outputs": [],
   "source": [
    "# Read data\n",
    "train_dir = '../input/emotion-detection-fer/train'\n",
    "test_dir = '../input/emotion-detection-fer/test'\n",
    "\n",
    "trainTransform  = transforms.Compose([transforms.Grayscale(num_output_channels=1), transforms.ToTensor()])\n",
    "\n",
    "train_dataset = datasets.ImageFolder(train_dir,trainTransform)\n",
    "test_dataset = datasets.ImageFolder(test_dir,trainTransform)\n",
    "\n",
    "train_loader = torch.utils.data.DataLoader(train_dataset, batch_size=batch_size, shuffle=True)\n",
    "test_loader = torch.utils.data.DataLoader(test_dataset, batch_size=batch_size, shuffle=True)"
   ],
   "metadata": {
    "collapsed": false,
    "pycharm": {
     "name": "#%%\n"
    }
   }
  },
  {
   "cell_type": "code",
   "execution_count": null,
   "outputs": [],
   "source": [
    "next(iter(train_loader))"
   ],
   "metadata": {
    "collapsed": false,
    "pycharm": {
     "name": "#%%\n"
    }
   }
  },
  {
   "cell_type": "code",
   "execution_count": null,
   "outputs": [],
   "source": [
    "# Model\n",
    "class CNN(nn.Module):\n",
    "    def __init__(self,):\n",
    "        super(CNN, self).__init__()\n",
    "\n",
    "        self.layer1 = nn.Sequential(\n",
    "            nn.Conv2d(1, 16, kernel_size=3, stride=1, padding=1),\n",
    "            nn.BatchNorm2d(16),\n",
    "            nn.ReLU(),\n",
    "        )\n",
    "\n",
    "        self.layer2 = nn.Sequential(\n",
    "            nn.Conv2d(16, 128, kernel_size=5, stride=1, padding=2),\n",
    "            nn.BatchNorm2d(128),\n",
    "            nn.ReLU(),\n",
    "            nn.MaxPool2d(kernel_size=2, stride=2)\n",
    "        )\n",
    "\n",
    "        self.layer3 = nn.Sequential(\n",
    "            nn.Conv2d(128, 512, kernel_size=3, stride=1, padding=1),\n",
    "            nn.BatchNorm2d(512),\n",
    "            nn.ReLU(),\n",
    "            nn.MaxPool2d(kernel_size=2, stride=2)\n",
    "        )\n",
    "\n",
    "        self.layer4 = nn.Sequential(\n",
    "            nn.Conv2d(512, 16, kernel_size=3, stride=1, padding=1),\n",
    "            nn.BatchNorm2d(16),\n",
    "            nn.ReLU()\n",
    "        )\n",
    "\n",
    "        self.linear = nn.Linear(12 * 12 * 16, class_num)\n",
    "\n",
    "    def forward(self,x):\n",
    "        out = self.layer1(x)\n",
    "        out = self.layer2(out)\n",
    "        out = self.layer3(out)\n",
    "        out = self.layer4(out)\n",
    "\n",
    "        out = out.reshape(out.size(0), -1)\n",
    "        return self.linear(out)"
   ],
   "metadata": {
    "collapsed": false,
    "pycharm": {
     "name": "#%%\n"
    }
   }
  },
  {
   "cell_type": "code",
   "execution_count": null,
   "outputs": [],
   "source": [
    "device = torch.device('cuda' if torch.cuda.is_available() else 'cpu')\n",
    "model = CNN().to(device)\n",
    "criterion = nn.CrossEntropyLoss()\n",
    "optimizer = optim.Adam(model.parameters(), lr=0.0001)"
   ],
   "metadata": {
    "collapsed": false,
    "pycharm": {
     "name": "#%%\n"
    }
   }
  },
  {
   "cell_type": "code",
   "execution_count": null,
   "outputs": [],
   "source": [
    "\n",
    "train_accs = []\n",
    "train_loss = []\n",
    "test_accs = []\n",
    "device = torch.device(\"cuda:0\" if torch.cuda.is_available() else \"cpu\")\n",
    "net = net.to(device)\n",
    "for epoch in range(20):\n",
    "    running_loss = 0.0\n",
    "    for i,data in enumerate(dataloader,0):#0是下标起始位置默认为0\n",
    "        # data 的格式[[inputs, labels]]\n",
    "#         inputs,labels = data\n",
    "        inputs,labels = data[0].to(device), data[1].to(device)\n",
    "        #初始为0，清除上个batch的梯度信息\n",
    "        optimizer.zero_grad()\n",
    "\n",
    "        #前向+后向+优化\n",
    "        outputs = net(inputs)\n",
    "        loss = criterion(outputs,labels)\n",
    "        loss.backward()\n",
    "        optimizer.step()\n",
    "\n",
    "        # loss 的输出，每个一百个batch输出，平均的loss\n",
    "        running_loss += loss.item()\n",
    "\n",
    "\n",
    "        # 训练曲线的绘制 一个batch中的准确率\n",
    "        correct = 0\n",
    "        total = 0\n",
    "        _, predicted = torch.max(outputs.data, 1)\n",
    "        total = labels.size(0)# labels 的长度\n",
    "        correct = (predicted == labels).sum().item() # 预测正确的数目\n",
    "        train_accs.append(100*correct/total)\n",
    "        if i%100 == 99:\n",
    "            print('[%d,%5d] loss :%.3f' %\n",
    "                 (epoch+1,i+1,running_loss/100))\n",
    "            print(predicted, labels)\n",
    "            running_loss = 0.0\n",
    "        train_loss.append(loss.item())\n",
    "\n",
    "for i, data in enumerate(testloader, 0):\n",
    "    inputs,labels = data[0].to(device), data[1].to(device)\n",
    "    outputs = net(inputs)\n",
    "    _, predicted = torch.max(outputs.data, 1)\n",
    "    total = labels.size(0)# labels 的长度\n",
    "    correct = (predicted == labels).sum().item() # 预测正确的数目\n",
    "    test_accs.append(100*correct/total)\n",
    "print(np.array(test_accs).mean())"
   ],
   "metadata": {
    "collapsed": false,
    "pycharm": {
     "name": "#%%\n"
    }
   }
  },
  {
   "cell_type": "code",
   "execution_count": 2,
   "id": "a3444874",
   "metadata": {
    "execution": {
     "iopub.execute_input": "2021-12-09T02:27:54.645253Z",
     "iopub.status.busy": "2021-12-09T02:27:54.644457Z",
     "iopub.status.idle": "2021-12-09T02:27:54.648461Z",
     "shell.execute_reply": "2021-12-09T02:27:54.647738Z",
     "shell.execute_reply.started": "2021-12-08T00:55:17.903181Z"
    },
    "papermill": {
     "duration": 0.041379,
     "end_time": "2021-12-09T02:27:54.648635",
     "exception": false,
     "start_time": "2021-12-09T02:27:54.607256",
     "status": "completed"
    },
    "tags": []
   },
   "outputs": [
    {
     "name": "stdout",
     "output_type": "stream",
     "text": [
      "58.578539823008846\n"
     ]
    }
   ],
   "source": [
    "print(np.array(test_accs).mean())"
   ]
  }
 ],
 "metadata": {
  "kernelspec": {
   "display_name": "Python 3",
   "language": "python",
   "name": "python3"
  },
  "language_info": {
   "codemirror_mode": {
    "name": "ipython",
    "version": 3
   },
   "file_extension": ".py",
   "mimetype": "text/x-python",
   "name": "python",
   "nbconvert_exporter": "python",
   "pygments_lexer": "ipython3",
   "version": "3.7.12"
  },
  "papermill": {
   "default_parameters": {},
   "duration": 10329.742353,
   "end_time": "2021-12-09T02:27:55.916569",
   "environment_variables": {},
   "exception": null,
   "input_path": "__notebook__.ipynb",
   "output_path": "__notebook__.ipynb",
   "parameters": {},
   "start_time": "2021-12-08T23:35:46.174216",
   "version": "2.3.3"
  }
 },
 "nbformat": 4,
 "nbformat_minor": 5
}