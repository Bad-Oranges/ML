{
 "cells": [
  {
   "cell_type": "code",
   "execution_count": 20,
   "id": "45121472",
   "metadata": {
    "_cell_guid": "b1076dfc-b9ad-4769-8c92-a6c4dae69d19",
    "_uuid": "8f2839f25d086af736a60e9eeb907d3b93b6e0e5",
    "execution": {
     "iopub.execute_input": "2021-12-08T23:35:56.606204Z",
     "iopub.status.busy": "2021-12-08T23:35:56.601022Z",
     "iopub.status.idle": "2021-12-09T02:27:54.575211Z",
     "shell.execute_reply": "2021-12-09T02:27:54.576011Z",
     "shell.execute_reply.started": "2021-12-08T00:55:45.396738Z"
    },
    "papermill": {
     "duration": 10318.005685,
     "end_time": "2021-12-09T02:27:54.577029",
     "exception": false,
     "start_time": "2021-12-08T23:35:56.571344",
     "status": "completed"
    },
    "tags": []
   },
   "outputs": [],
   "source": [
    "import matplotlib.pyplot as plt\n",
    "import numpy as np\n",
    "import torch\n",
    "from torch import nn\n",
    "from torchvision import datasets, transforms\n",
    "import torch.optim as optim\n",
    "from torch.optim import lr_scheduler\n",
    "import os\n",
    "from model import CNN"
   ]
  },
  {
   "cell_type": "code",
   "execution_count": 21,
   "outputs": [],
   "source": [
    "# Hyper param\n",
    "epoch_num = 60\n",
    "batch_size = 128\n",
    "lr = 1e-4\n",
    "class_num = 7"
   ],
   "metadata": {
    "collapsed": false
   }
  },
  {
   "cell_type": "markdown",
   "source": [
    "# Dataset preprocessing"
   ],
   "metadata": {
    "collapsed": false
   }
  },
  {
   "cell_type": "code",
   "execution_count": 22,
   "outputs": [
    {
     "name": "stdout",
     "output_type": "stream",
     "text": [
      "{'angry': 0, 'disgusted': 1, 'fearful': 2, 'happy': 3, 'neutral': 4, 'sad': 5, 'surprised': 6}\n",
      "{'angry': 0, 'disgusted': 1, 'fearful': 2, 'happy': 3, 'neutral': 4, 'sad': 5, 'surprised': 6}\n"
     ]
    }
   ],
   "source": [
    "# Read data (48x48 pixel gray scale images)\n",
    "# Dataset link: https://www.kaggle.com/datasets/ananthu017/emotion-detection-fer\n",
    "train_dir = '../../data/emotion-detection/train'\n",
    "test_dir = '../../data/emotion-detection/test'\n",
    "\n",
    "transform = transforms.Compose([transforms.Grayscale(num_output_channels=1),\n",
    "                                transforms.RandomHorizontalFlip(),\n",
    "                                transforms.ToTensor(),\n",
    "                                transforms.Normalize(0.5, 0.5)])\n",
    "\n",
    "train_dataset = datasets.ImageFolder(train_dir,transform=transform)\n",
    "test_dataset = datasets.ImageFolder(test_dir,transform=transform)\n",
    "\n",
    "train_loader = torch.utils.data.DataLoader(train_dataset, batch_size=batch_size, shuffle=True)\n",
    "test_loader = torch.utils.data.DataLoader(test_dataset, batch_size=batch_size, shuffle=True)\n",
    "\n",
    "print(train_dataset.class_to_idx)\n",
    "print(test_dataset.class_to_idx)"
   ],
   "metadata": {
    "collapsed": false
   }
  },
  {
   "cell_type": "markdown",
   "source": [
    "## Test the dataloader"
   ],
   "metadata": {
    "collapsed": false
   }
  },
  {
   "cell_type": "code",
   "execution_count": 23,
   "outputs": [
    {
     "name": "stdout",
     "output_type": "stream",
     "text": [
      "torch.Size([1, 48, 48])\n"
     ]
    },
    {
     "data": {
      "text/plain": "Text(0.5, 1.0, 'fearful')"
     },
     "execution_count": 23,
     "metadata": {},
     "output_type": "execute_result"
    },
    {
     "data": {
      "text/plain": "<Figure size 640x480 with 1 Axes>",
      "image/png": "[encoded data removed]"
     },
     "metadata": {},
     "output_type": "display_data"
    }
   ],
   "source": [
    "testdata = next(iter(train_loader))\n",
    "pic = testdata[0][0]\n",
    "print(pic.size())\n",
    "label = testdata[1][0]\n",
    "\n",
    "idx_to_class = ['angry', 'disgusted', 'fearful', 'happy', 'neutral', 'sad', 'surprised']\n",
    "plt.imshow(np.reshape(pic, pic.size()[1:]), cmap='gray')\n",
    "plt.title(idx_to_class[label])"
   ],
   "metadata": {
    "collapsed": false
   }
  },
  {
   "cell_type": "markdown",
   "source": [
    "# Components"
   ],
   "metadata": {
    "collapsed": false
   }
  },
  {
   "cell_type": "code",
   "execution_count": 24,
   "outputs": [
    {
     "data": {
      "text/plain": "True"
     },
     "execution_count": 24,
     "metadata": {},
     "output_type": "execute_result"
    }
   ],
   "source": [
    "device = torch.device('cuda:0' if torch.cuda.is_available() else 'cpu')\n",
    "model = CNN(class_num).to(device)\n",
    "criterion = nn.CrossEntropyLoss()\n",
    "optimizer = optim.Adam(model.parameters(), lr=lr)\n",
    "scheduler = lr_scheduler.ExponentialLR(optimizer, gamma=0.98)\n",
    "torch.cuda.is_available()"
   ],
   "metadata": {
    "collapsed": false
   }
  },
  {
   "cell_type": "markdown",
   "source": [
    "# Countinue training from checkpoint"
   ],
   "metadata": {
    "collapsed": false
   }
  },
  {
   "cell_type": "code",
   "execution_count": 25,
   "outputs": [],
   "source": [
    "train_loss_list = []\n",
    "val_loss_list = []\n",
    "resume_epoch = 0"
   ],
   "metadata": {
    "collapsed": false
   }
  },
  {
   "cell_type": "code",
   "execution_count": 26,
   "outputs": [
    {
     "name": "stdout",
     "output_type": "stream",
     "text": [
      "fail to load checkpoint, train from zero beginning\n"
     ]
    }
   ],
   "source": [
    "try:\n",
    "    most_recent_check_point = os.listdir('checkpoint')[-1]\n",
    "    ckpt_path = os.path.join('checkpoint', most_recent_check_point)\n",
    "    check_point = torch.load(ckpt_path)\n",
    "    # load model\n",
    "    model.load_state_dict(check_point['state_dict'])\n",
    "    resume_epoch = check_point['epoch']\n",
    "    train_loss_list = check_point['train_loss_list']\n",
    "    val_loss_list = check_point['val_loss_list']\n",
    "    print(f'Successfully load checkpoint {most_recent_check_point}, '\n",
    "          f'start training from epoch {resume_epoch + 1}')\n",
    "    plt.plot(train_loss_list, label='train')\n",
    "    plt.plot(val_loss_list, label='validation')\n",
    "    plt.title(\"Loss\")\n",
    "    plt.legend()\n",
    "    plt.show()\n",
    "except:\n",
    "    print('fail to load checkpoint, train from zero beginning')\n",
    "\n",
    "for _ in range(resume_epoch):\n",
    "    scheduler.step()"
   ],
   "metadata": {
    "collapsed": false
   }
  },
  {
   "cell_type": "markdown",
   "source": [
    "# Training"
   ],
   "metadata": {
    "collapsed": false
   }
  },
  {
   "cell_type": "code",
   "execution_count": 27,
   "outputs": [
    {
     "name": "stderr",
     "output_type": "stream",
     "text": [
      "D:\\PythonWorkspace\\Projects\\ML\\Practice\\Emotion Detection\\model.py:45: UserWarning: Implicit dimension choice for softmax has been deprecated. Change the call to include dim=X as an argument.\n",
      "  return self.output(out)\n"
     ]
    },
    {
     "name": "stdout",
     "output_type": "stream",
     "text": [
      "Epoch: 1 / 60\ttrain_loss: 1.88476956\tval_loss: 1.84401608\tlr: 0.00010000\t\n",
      "Epoch: 2 / 60\ttrain_loss: 1.84653556\tval_loss: 1.87011707\tlr: 0.00009800\t\n",
      "Epoch: 3 / 60\ttrain_loss: 1.67538393\tval_loss: 1.78336203\tlr: 0.00009604\t\n",
      "Epoch: 4 / 60\ttrain_loss: 1.71857715\tval_loss: 1.81598496\tlr: 0.00009412\t\n",
      "Epoch: 5 / 60\ttrain_loss: 1.86690950\tval_loss: 1.75550580\tlr: 0.00009224\t\n",
      "Epoch: 6 / 60\ttrain_loss: 1.80496478\tval_loss: 1.81130207\tlr: 0.00009039\t\n",
      "Epoch: 7 / 60\ttrain_loss: 1.83075178\tval_loss: 1.77373767\tlr: 0.00008858\t\n",
      "Epoch: 8 / 60\ttrain_loss: 1.60523617\tval_loss: 1.76708603\tlr: 0.00008681\t\n",
      "Epoch: 9 / 60\ttrain_loss: 1.65017068\tval_loss: 1.74913847\tlr: 0.00008508\t\n",
      "Epoch: 10 / 60\ttrain_loss: 1.67883551\tval_loss: 1.67369926\tlr: 0.00008337\t\n",
      "Epoch: 11 / 60\ttrain_loss: 1.73019755\tval_loss: 1.68186414\tlr: 0.00008171\t\n",
      "Epoch: 12 / 60\ttrain_loss: 1.60569620\tval_loss: 1.74122453\tlr: 0.00008007\t\n",
      "Epoch: 13 / 60\ttrain_loss: 1.68515790\tval_loss: 1.69609022\tlr: 0.00007847\t\n",
      "Epoch: 14 / 60\ttrain_loss: 1.65050137\tval_loss: 1.68960631\tlr: 0.00007690\t\n",
      "Epoch: 15 / 60\ttrain_loss: 1.71741068\tval_loss: 1.71902299\tlr: 0.00007536\t\n",
      "Epoch: 16 / 60\ttrain_loss: 1.57502401\tval_loss: 1.68568146\tlr: 0.00007386\t\n",
      "Epoch: 17 / 60\ttrain_loss: 1.66194868\tval_loss: 1.67828107\tlr: 0.00007238\t\n",
      "Epoch: 18 / 60\ttrain_loss: 1.67795539\tval_loss: 1.69570255\tlr: 0.00007093\t\n",
      "Epoch: 19 / 60\ttrain_loss: 1.67395759\tval_loss: 1.68280900\tlr: 0.00006951\t\n",
      "Epoch: 20 / 60\ttrain_loss: 1.61373568\tval_loss: 1.66744184\tlr: 0.00006812\t\n",
      "Epoch: 21 / 60\ttrain_loss: 1.57177436\tval_loss: 1.74068856\tlr: 0.00006676\t\n",
      "Epoch: 22 / 60\ttrain_loss: 1.55840051\tval_loss: 1.70668232\tlr: 0.00006543\t\n",
      "Epoch: 23 / 60\ttrain_loss: 1.65921414\tval_loss: 1.66310823\tlr: 0.00006412\t\n",
      "Epoch: 24 / 60\ttrain_loss: 1.56293070\tval_loss: 1.70021939\tlr: 0.00006283\t\n",
      "Epoch: 25 / 60\ttrain_loss: 1.67145097\tval_loss: 1.64399278\tlr: 0.00006158\t\n",
      "Epoch: 26 / 60\ttrain_loss: 1.58052731\tval_loss: 1.61988771\tlr: 0.00006035\t\n",
      "Epoch: 27 / 60\ttrain_loss: 1.61972570\tval_loss: 1.64896345\tlr: 0.00005914\t\n",
      "Epoch: 28 / 60\ttrain_loss: 1.55861640\tval_loss: 1.70580506\tlr: 0.00005796\t\n",
      "Epoch: 29 / 60\ttrain_loss: 1.54594755\tval_loss: 1.61569321\tlr: 0.00005680\t\n",
      "Epoch: 30 / 60\ttrain_loss: 1.60004532\tval_loss: 1.66596258\tlr: 0.00005566\t\n",
      "Epoch: 31 / 60\ttrain_loss: 1.50201154\tval_loss: 1.68868363\tlr: 0.00005455\t\n",
      "Epoch: 32 / 60\ttrain_loss: 1.76242089\tval_loss: 1.67754483\tlr: 0.00005346\t\n",
      "Epoch: 33 / 60\ttrain_loss: 1.67494106\tval_loss: 1.65345633\tlr: 0.00005239\t\n",
      "Epoch: 34 / 60\ttrain_loss: 1.64405608\tval_loss: 1.63117540\tlr: 0.00005134\t\n",
      "Epoch: 35 / 60\ttrain_loss: 1.72765923\tval_loss: 1.72324467\tlr: 0.00005031\t\n",
      "Epoch: 36 / 60\ttrain_loss: 1.60911548\tval_loss: 1.71921647\tlr: 0.00004931\t\n",
      "Epoch: 37 / 60\ttrain_loss: 1.62508571\tval_loss: 1.67003477\tlr: 0.00004832\t\n",
      "Epoch: 38 / 60\ttrain_loss: 1.56277299\tval_loss: 1.67067349\tlr: 0.00004735\t\n",
      "Epoch: 39 / 60\ttrain_loss: 1.62129414\tval_loss: 1.66443217\tlr: 0.00004641\t\n",
      "Epoch: 40 / 60\ttrain_loss: 1.59401548\tval_loss: 1.71805465\tlr: 0.00004548\t\n",
      "Epoch: 41 / 60\ttrain_loss: 1.59153330\tval_loss: 1.64762211\tlr: 0.00004457\t\n",
      "Epoch: 42 / 60\ttrain_loss: 1.48659694\tval_loss: 1.67494845\tlr: 0.00004368\t\n",
      "Epoch: 43 / 60\ttrain_loss: 1.64714062\tval_loss: 1.62499189\tlr: 0.00004281\t\n",
      "Epoch: 44 / 60\ttrain_loss: 1.58145308\tval_loss: 1.65752244\tlr: 0.00004195\t\n",
      "Epoch: 45 / 60\ttrain_loss: 1.52341270\tval_loss: 1.62212396\tlr: 0.00004111\t\n",
      "Epoch: 46 / 60\ttrain_loss: 1.64305794\tval_loss: 1.73030949\tlr: 0.00004029\t\n",
      "Epoch: 47 / 60\ttrain_loss: 1.49452233\tval_loss: 1.68541479\tlr: 0.00003948\t\n",
      "Epoch: 48 / 60\ttrain_loss: 1.69732404\tval_loss: 1.68578923\tlr: 0.00003869\t\n",
      "Epoch: 49 / 60\ttrain_loss: 1.60638511\tval_loss: 1.68858182\tlr: 0.00003792\t\n",
      "Epoch: 50 / 60\ttrain_loss: 1.48687446\tval_loss: 1.57619941\tlr: 0.00003716\t\n",
      "Epoch: 51 / 60\ttrain_loss: 1.61275339\tval_loss: 1.68526673\tlr: 0.00003642\t\n",
      "Epoch: 52 / 60\ttrain_loss: 1.41443205\tval_loss: 1.61865234\tlr: 0.00003569\t\n",
      "Epoch: 53 / 60\ttrain_loss: 1.60915005\tval_loss: 1.67534459\tlr: 0.00003497\t\n",
      "Epoch: 54 / 60\ttrain_loss: 1.56267858\tval_loss: 1.64029348\tlr: 0.00003428\t\n",
      "Epoch: 55 / 60\ttrain_loss: 1.54179597\tval_loss: 1.68838763\tlr: 0.00003359\t\n",
      "Epoch: 56 / 60\ttrain_loss: 1.62377191\tval_loss: 1.65322554\tlr: 0.00003292\t\n",
      "Epoch: 57 / 60\ttrain_loss: 1.61544013\tval_loss: 1.68609273\tlr: 0.00003226\t\n",
      "Epoch: 58 / 60\ttrain_loss: 1.51537597\tval_loss: 1.64832282\tlr: 0.00003161\t\n",
      "Epoch: 59 / 60\ttrain_loss: 1.50010526\tval_loss: 1.67912376\tlr: 0.00003098\t\n"
     ]
    }
   ],
   "source": [
    "for epoch in range(resume_epoch + 1, epoch_num):\n",
    "    for i, (pics, labels) in enumerate(train_loader):\n",
    "        pics = pics.to(device)\n",
    "        labels = labels.to(device)\n",
    "        output = model(pics)\n",
    "        loss = criterion(output, labels)\n",
    "\n",
    "        optimizer.zero_grad()\n",
    "        loss.backward()\n",
    "        optimizer.step()\n",
    "\n",
    "    train_loss_list.append(loss.item())\n",
    "    with torch.no_grad():\n",
    "        val_pics, val_labels = next(iter(test_loader))\n",
    "        val_pics = val_pics.to(device)\n",
    "        val_labels = val_labels.to(device)\n",
    "        val_output = model(val_pics)\n",
    "        val_loss = criterion(val_output, val_labels)\n",
    "        val_loss_list.append(val_loss.item())\n",
    "\n",
    "\n",
    "    print(\n",
    "        f'Epoch: {epoch} / {epoch_num}\\t'\n",
    "        f'train_loss: {train_loss_list[-1]:.8f}\\t'\n",
    "        f'val_loss: {val_loss_list[-1]:.8f}\\t'\n",
    "        f'lr: {optimizer.state_dict()[\"param_groups\"][0][\"lr\"]:.8f}\\t'\n",
    "    )\n",
    "\n",
    "    scheduler.step()\n",
    "\n",
    "    # save ckpt\n",
    "    if epoch % 10 == 0:\n",
    "        os.makedirs('checkpoint', exist_ok=True)\n",
    "        torch.save({'epoch': epoch,\n",
    "                    'state_dict': model.state_dict(),\n",
    "                    'train_loss_list': train_loss_list,\n",
    "                    'val_loss_list': val_loss_list,\n",
    "                    }, f'checkpoint/{epoch:03d}.pt')"
   ],
   "metadata": {
    "collapsed": false
   }
  },
  {
   "cell_type": "markdown",
   "source": [
    "# Draw loss curve"
   ],
   "metadata": {
    "collapsed": false
   }
  },
  {
   "cell_type": "code",
   "execution_count": 28,
   "id": "a3444874",
   "metadata": {
    "execution": {
     "iopub.execute_input": "2021-12-09T02:27:54.645253Z",
     "iopub.status.busy": "2021-12-09T02:27:54.644457Z",
     "iopub.status.idle": "2021-12-09T02:27:54.648461Z",
     "shell.execute_reply": "2021-12-09T02:27:54.647738Z",
     "shell.execute_reply.started": "2021-12-08T00:55:17.903181Z"
    },
    "papermill": {
     "duration": 0.041379,
     "end_time": "2021-12-09T02:27:54.648635",
     "exception": false,
     "start_time": "2021-12-09T02:27:54.607256",
     "status": "completed"
    },
    "tags": []
   },
   "outputs": [
    {
     "data": {
      "text/plain": "<matplotlib.legend.Legend at 0x2543b7f44f0>"
     },
     "execution_count": 28,
     "metadata": {},
     "output_type": "execute_result"
    },
    {
     "data": {
      "text/plain": "<Figure size 640x480 with 1 Axes>",
      "image/png": "[encoded data removed]"
     },
     "metadata": {},
     "output_type": "display_data"
    }
   ],
   "source": [
    "plt.plot(train_loss_list, label='train')\n",
    "plt.plot(val_loss_list, label='validation')\n",
    "plt.xlabel('epochs')\n",
    "plt.ylabel('loss')\n",
    "plt.title('Loss')\n",
    "plt.legend()"
   ]
  },
  {
   "cell_type": "markdown",
   "source": [
    "# Test the model"
   ],
   "metadata": {
    "collapsed": false
   },
   "execution_count": 69
  },
  {
   "cell_type": "code",
   "execution_count": 29,
   "outputs": [
    {
     "name": "stdout",
     "output_type": "stream",
     "text": [
      "Accuracy: 0.505293953747562\n"
     ]
    }
   ],
   "source": [
    "with torch.no_grad():\n",
    "    correct = 0\n",
    "    total = 0\n",
    "    for imgs, labels in test_loader:\n",
    "        imgs = imgs.to(device)\n",
    "        labels = labels.to(device)\n",
    "        output = model(imgs)\n",
    "\n",
    "        _, predicted = torch.max(output.data, 1)\n",
    "        total += labels.size(0)\n",
    "        correct += (predicted == labels).sum().item()\n",
    "    print(f'Accuracy: {correct / total}')"
   ],
   "metadata": {
    "collapsed": false
   }
  },
  {
   "cell_type": "markdown",
   "source": [
    "# Save model"
   ],
   "metadata": {
    "collapsed": false
   }
  },
  {
   "cell_type": "code",
   "execution_count": 30,
   "outputs": [],
   "source": [
    "torch.save(model, 'model.pth')"
   ],
   "metadata": {
    "collapsed": false
   }
  }
 ],
 "metadata": {
  "kernelspec": {
   "display_name": "Python 3",
   "language": "python",
   "name": "python3"
  },
  "language_info": {
   "codemirror_mode": {
    "name": "ipython",
    "version": 3
   },
   "file_extension": ".py",
   "mimetype": "text/x-python",
   "name": "python",
   "nbconvert_exporter": "python",
   "pygments_lexer": "ipython3",
   "version": "3.7.12"
  },
  "papermill": {
   "default_parameters": {},
   "duration": 10329.742353,
   "end_time": "2021-12-09T02:27:55.916569",
   "environment_variables": {},
   "exception": null,
   "input_path": "__notebook__.ipynb",
   "output_path": "__notebook__.ipynb",
   "parameters": {},
   "start_time": "2021-12-08T23:35:46.174216",
   "version": "2.3.3"
  }
 },
 "nbformat": 4,
 "nbformat_minor": 5
}
