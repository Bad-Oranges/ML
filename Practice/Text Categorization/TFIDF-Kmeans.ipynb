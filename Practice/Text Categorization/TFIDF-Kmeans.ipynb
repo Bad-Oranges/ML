{
 "cells": [
  {
   "cell_type": "code",
   "execution_count": 24,
   "metadata": {
    "collapsed": true
   },
   "outputs": [],
   "source": [
    "import numpy as np\n",
    "import pandas as pd\n",
    "import matplotlib.pyplot as plt\n",
    "from tqdm import tqdm\n",
    "from sklearn.feature_extraction import text\n",
    "from sklearn.feature_extraction.text import TfidfVectorizer\n",
    "from sklearn.cluster import KMeans\n",
    "from nltk.tokenize import RegexpTokenizer\n",
    "from nltk.stem.snowball import SnowballStemmer\n",
    "\n",
    "%matplotlib inline"
   ]
  },
  {
   "cell_type": "markdown",
   "source": [
    "## 读取数据"
   ],
   "metadata": {
    "collapsed": false,
    "pycharm": {
     "name": "#%% md\n"
    }
   }
  },
  {
   "cell_type": "code",
   "execution_count": 14,
   "outputs": [
    {
     "name": "stdout",
     "output_type": "stream",
     "text": [
      "<class 'pandas.core.frame.DataFrame'>\n",
      "RangeIndex: 10000 entries, 0 to 9999\n",
      "Data columns (total 1 columns):\n",
      " #   Column         Non-Null Count  Dtype \n",
      "---  ------         --------------  ----- \n",
      " 0   headline_text  10000 non-null  object\n",
      "dtypes: object(1)\n",
      "memory usage: 78.2+ KB\n"
     ]
    }
   ],
   "source": [
    "# Read Dataset\n",
    "data = pd.read_csv('../../data/abcnews-date-text.csv', usecols=['headline_text'])\n",
    "data = data.head(10000)  # 这里只获取部分数据\n",
    "data.info()"
   ],
   "metadata": {
    "collapsed": false,
    "pycharm": {
     "name": "#%%\n"
    }
   }
  },
  {
   "cell_type": "code",
   "execution_count": 15,
   "outputs": [
    {
     "data": {
      "text/plain": "                                          headline_text\n0     aba decides against community broadcasting lic...\n1        act fire witnesses must be aware of defamation\n2        a g calls for infrastructure protection summit\n3              air nz staff in aust strike for pay rise\n4         air nz strike to affect australian travellers\n...                                                 ...\n9995  us units attack palace as fighting rages in heart\n9996   vasco win 10 goal thriller in brazil on edmundos\n9997                       vic bushfires inquiry begins\n9998             vic govt plan aims to reduce water use\n9999          vic govt urged to green light marina plan\n\n[10000 rows x 1 columns]",
      "text/html": "<div>\n<style scoped>\n    .dataframe tbody tr th:only-of-type {\n        vertical-align: middle;\n    }\n\n    .dataframe tbody tr th {\n        vertical-align: top;\n    }\n\n    .dataframe thead th {\n        text-align: right;\n    }\n</style>\n<table border=\"1\" class=\"dataframe\">\n  <thead>\n    <tr style=\"text-align: right;\">\n      <th></th>\n      <th>headline_text</th>\n    </tr>\n  </thead>\n  <tbody>\n    <tr>\n      <th>0</th>\n      <td>aba decides against community broadcasting lic...</td>\n    </tr>\n    <tr>\n      <th>1</th>\n      <td>act fire witnesses must be aware of defamation</td>\n    </tr>\n    <tr>\n      <th>2</th>\n      <td>a g calls for infrastructure protection summit</td>\n    </tr>\n    <tr>\n      <th>3</th>\n      <td>air nz staff in aust strike for pay rise</td>\n    </tr>\n    <tr>\n      <th>4</th>\n      <td>air nz strike to affect australian travellers</td>\n    </tr>\n    <tr>\n      <th>...</th>\n      <td>...</td>\n    </tr>\n    <tr>\n      <th>9995</th>\n      <td>us units attack palace as fighting rages in heart</td>\n    </tr>\n    <tr>\n      <th>9996</th>\n      <td>vasco win 10 goal thriller in brazil on edmundos</td>\n    </tr>\n    <tr>\n      <th>9997</th>\n      <td>vic bushfires inquiry begins</td>\n    </tr>\n    <tr>\n      <th>9998</th>\n      <td>vic govt plan aims to reduce water use</td>\n    </tr>\n    <tr>\n      <th>9999</th>\n      <td>vic govt urged to green light marina plan</td>\n    </tr>\n  </tbody>\n</table>\n<p>10000 rows × 1 columns</p>\n</div>"
     },
     "execution_count": 15,
     "metadata": {},
     "output_type": "execute_result"
    }
   ],
   "source": [
    "data"
   ],
   "metadata": {
    "collapsed": false,
    "pycharm": {
     "name": "#%%\n"
    }
   }
  },
  {
   "cell_type": "code",
   "execution_count": 16,
   "outputs": [
    {
     "data": {
      "text/plain": "                                headline_text\n9256  5 australian sars cases being monitored\n9461  5 australian sars cases being monitored\n6404    all walks of life follow protest path\n6194    all walks of life follow protest path\n6199      asio briefs crean on terrorist risk\n...                                       ...\n6398                     wildcats crush hawks\n6598                     wildcats crush hawks\n5511                  woman dies in car crash\n5031                  woman dies in car crash\n1205                  woman dies in car crash\n\n[64 rows x 1 columns]",
      "text/html": "<div>\n<style scoped>\n    .dataframe tbody tr th:only-of-type {\n        vertical-align: middle;\n    }\n\n    .dataframe tbody tr th {\n        vertical-align: top;\n    }\n\n    .dataframe thead th {\n        text-align: right;\n    }\n</style>\n<table border=\"1\" class=\"dataframe\">\n  <thead>\n    <tr style=\"text-align: right;\">\n      <th></th>\n      <th>headline_text</th>\n    </tr>\n  </thead>\n  <tbody>\n    <tr>\n      <th>9256</th>\n      <td>5 australian sars cases being monitored</td>\n    </tr>\n    <tr>\n      <th>9461</th>\n      <td>5 australian sars cases being monitored</td>\n    </tr>\n    <tr>\n      <th>6404</th>\n      <td>all walks of life follow protest path</td>\n    </tr>\n    <tr>\n      <th>6194</th>\n      <td>all walks of life follow protest path</td>\n    </tr>\n    <tr>\n      <th>6199</th>\n      <td>asio briefs crean on terrorist risk</td>\n    </tr>\n    <tr>\n      <th>...</th>\n      <td>...</td>\n    </tr>\n    <tr>\n      <th>6398</th>\n      <td>wildcats crush hawks</td>\n    </tr>\n    <tr>\n      <th>6598</th>\n      <td>wildcats crush hawks</td>\n    </tr>\n    <tr>\n      <th>5511</th>\n      <td>woman dies in car crash</td>\n    </tr>\n    <tr>\n      <th>5031</th>\n      <td>woman dies in car crash</td>\n    </tr>\n    <tr>\n      <th>1205</th>\n      <td>woman dies in car crash</td>\n    </tr>\n  </tbody>\n</table>\n<p>64 rows × 1 columns</p>\n</div>"
     },
     "execution_count": 16,
     "metadata": {},
     "output_type": "execute_result"
    }
   ],
   "source": [
    "data[data['headline_text'].duplicated(keep=False)].sort_values('headline_text')"
   ],
   "metadata": {
    "collapsed": false,
    "pycharm": {
     "name": "#%%\n"
    }
   }
  },
  {
   "cell_type": "code",
   "execution_count": 17,
   "outputs": [
    {
     "data": {
      "text/plain": "                                          headline_text\n0     aba decides against community broadcasting lic...\n1        act fire witnesses must be aware of defamation\n2        a g calls for infrastructure protection summit\n3              air nz staff in aust strike for pay rise\n4         air nz strike to affect australian travellers\n...                                                 ...\n9995  us units attack palace as fighting rages in heart\n9996   vasco win 10 goal thriller in brazil on edmundos\n9997                       vic bushfires inquiry begins\n9998             vic govt plan aims to reduce water use\n9999          vic govt urged to green light marina plan\n\n[9967 rows x 1 columns]",
      "text/html": "<div>\n<style scoped>\n    .dataframe tbody tr th:only-of-type {\n        vertical-align: middle;\n    }\n\n    .dataframe tbody tr th {\n        vertical-align: top;\n    }\n\n    .dataframe thead th {\n        text-align: right;\n    }\n</style>\n<table border=\"1\" class=\"dataframe\">\n  <thead>\n    <tr style=\"text-align: right;\">\n      <th></th>\n      <th>headline_text</th>\n    </tr>\n  </thead>\n  <tbody>\n    <tr>\n      <th>0</th>\n      <td>aba decides against community broadcasting lic...</td>\n    </tr>\n    <tr>\n      <th>1</th>\n      <td>act fire witnesses must be aware of defamation</td>\n    </tr>\n    <tr>\n      <th>2</th>\n      <td>a g calls for infrastructure protection summit</td>\n    </tr>\n    <tr>\n      <th>3</th>\n      <td>air nz staff in aust strike for pay rise</td>\n    </tr>\n    <tr>\n      <th>4</th>\n      <td>air nz strike to affect australian travellers</td>\n    </tr>\n    <tr>\n      <th>...</th>\n      <td>...</td>\n    </tr>\n    <tr>\n      <th>9995</th>\n      <td>us units attack palace as fighting rages in heart</td>\n    </tr>\n    <tr>\n      <th>9996</th>\n      <td>vasco win 10 goal thriller in brazil on edmundos</td>\n    </tr>\n    <tr>\n      <th>9997</th>\n      <td>vic bushfires inquiry begins</td>\n    </tr>\n    <tr>\n      <th>9998</th>\n      <td>vic govt plan aims to reduce water use</td>\n    </tr>\n    <tr>\n      <th>9999</th>\n      <td>vic govt urged to green light marina plan</td>\n    </tr>\n  </tbody>\n</table>\n<p>9967 rows × 1 columns</p>\n</div>"
     },
     "execution_count": 17,
     "metadata": {},
     "output_type": "execute_result"
    }
   ],
   "source": [
    "data = data.drop_duplicates()\n",
    "data"
   ],
   "metadata": {
    "collapsed": false,
    "pycharm": {
     "name": "#%%\n"
    }
   }
  },
  {
   "cell_type": "markdown",
   "source": [
    "## 数据预处理"
   ],
   "metadata": {
    "collapsed": false,
    "pycharm": {
     "name": "#%% md\n"
    }
   }
  },
  {
   "cell_type": "code",
   "execution_count": 18,
   "outputs": [
    {
     "name": "stdout",
     "output_type": "stream",
     "text": [
      "frozenset({'always', 'side', 'ie', 'only', 'within', ']', 'can', 'afterwards', 'very', 'whenever', 'sincere', 'empty', 'became', 'besides', 'that', 'everywhere', 'take', 'and', 'cannot', 'less', 'please', 'even', 'some', 'we', 'all', 'hundred', 'own', 'couldnt', 'seems', 'was', 'everything', 'my', 'twenty', 'nor', 'whence', 'under', 'himself', 'into', 'onto', 'anywhere', 'co', 'out', 'former', ':', 'etc', 'might', 'it', 'becomes', 'anything', 'first', 'interest', 'few', 'thereby', 'latterly', '{', 'keep', '%', 'whether', 'the', 'somewhere', 'else', 'detail', 'whither', 'mill', 'three', 'could', 'five', 'am', 'mostly', 'again', 'whereby', 'thereupon', 'once', 'none', 'serious', 'yourself', 'between', 'when', 'you', 'amoungst', 'your', 'becoming', 'twelve', 'i', 'inc', 'yet', 'not', 'fire', 'herself', 'otherwise', 'thereafter', 'nevertheless', 'sometimes', 'last', 'made', 'already', 'around', 'thus', 'hasnt', 'because', 'after', 'as', 'without', 'nowhere', 'describe', 'get', 'is', 'perhaps', 'has', 'thick', 'however', 'fifty', 'part', 'eight', 'wherein', 'whom', 'hereby', 'sometime', 'anyway', 'enough', 'his', 'will', 'so', 'go', 'back', 'although', 'through', 'latter', 'amongst', 'at', 'un', 'seemed', 'yourselves', 'whoever', 'someone', 'down', 'while', 'during', 'cant', 'towards', 'below', 'indeed', 'off', 'up', 'us', '[', 'elsewhere', 'must', 'what', 'something', 'ever', ')', 'do', 'but', 'their', 'behind', 'yours', 'itself', 'an', 'much', 'four', 'toward', 'often', 'myself', 'beforehand', 'same', 'well', 'ourselves', 'fifteen', 'seem', 'whereafter', 'its', 'with', 'those', 'call', 'due', 'except', 'become', 'nine', 'they', 'ours', 'she', 'anyone', 'over', 'among', 'done', 'further', 'then', 'which', \"'\", 'hence', 'more', 'also', 'mine', 'this', 'never', 'both', 'than', 'several', 'therein', 'nothing', 'find', 'there', 'everyone', 'were', 'per', 'too', 'if', 'be', 'nobody', 'namely', 'where', ',', 'may', '.', 'beside', 'con', 'put', 'across', 'neither', 'should', 'move', 'either', 'many', 'of', 'about', 'thru', 'almost', 'via', 'show', 'meanwhile', 'he', 'ltd', 'moreover', 'are', 'seeming', 'every', 'fill', 'each', 'another', 'formerly', 'found', 'noone', 'amount', 'sixty', 'thence', 'why', 're', 'de', 'have', 'before', 'front', 'been', 'until', 'for', 'from', 'since', 'against', 'throughout', 'see', 'forty', '?', 'now', 'on', 'cry', 'themselves', 'next', 'above', 'name', 'third', 'others', 'eg', 'her', 'would', 'along', 'herein', 'hereupon', 'these', 'by', 'system', 'no', '\"', 'such', '(', 'whereas', 'or', 'anyhow', ';', 'a', 'our', 'here', '!', 'any', 'eleven', 'beyond', 'whole', 'rather', 'bottom', 'two', 'one', 'other', 'full', 'most', 'them', 'though', 'thin', 'together', 'hereafter', 'how', 'bill', 'whose', 'give', 'me', 'wherever', 'whatever', 'to', 'still', 'alone', 'had', 'therefore', 'being', 'upon', 'six', 'ten', 'in', 'least', 'who', 'him', 'top', '}', 'hers', 'somehow', 'whereupon'})\n",
      "<class 'frozenset'>\n"
     ]
    },
    {
     "data": {
      "text/plain": "<9967x10050 sparse matrix of type '<class 'numpy.float64'>'\n\twith 63639 stored elements in Compressed Sparse Row format>"
     },
     "execution_count": 18,
     "metadata": {},
     "output_type": "execute_result"
    }
   ],
   "source": [
    "punc = ['.', ',', '\"', \"'\", '?', '!', ':', ';', '(', ')', '[', ']', '{', '}',\"%\"]\n",
    "stop_words = text.ENGLISH_STOP_WORDS.union(punc)\n",
    "print(stop_words)\n",
    "print(type(stop_words))\n",
    "desc = data['headline_text'].values\n",
    "\n",
    "vectorizer = TfidfVectorizer()\n",
    "X = vectorizer.fit_transform(desc)\n",
    "X"
   ],
   "metadata": {
    "collapsed": false,
    "pycharm": {
     "name": "#%%\n"
    }
   }
  },
  {
   "cell_type": "code",
   "execution_count": 19,
   "outputs": [
    {
     "name": "stdout",
     "output_type": "stream",
     "text": [
      "10050\n",
      "['killings', 'kills', 'kily', 'kimberley', 'kindred', 'king', 'kingfish', 'kingfisher', 'kings', 'kingstream', 'kingz', 'kirilenko', 'kirkuk', 'kirsten', 'kirwan', 'kit', 'kits', 'kitty', 'kivilev', 'kivilevs', 'kiwi', 'kiwis', 'klim', 'klims', 'klitschko', 'klusener', 'km', 'knee', 'knife', 'knights', 'knives', 'knock', 'knocked', 'knocking', 'knopfler', 'know', 'knowles', 'known', 'koala', 'koalas', 'koen', 'kong', 'kookaburras', 'korea', 'korean', 'koreans', 'koreas', 'kosciuszko', 'kosmina', 'kournikova', 'krakow', 'kravitz', 'krige', 'kroger', 'kucera', 'kuerten', 'kununurra', 'kuranyi', 'kurd', 'kurdish', 'kurds', 'kuwait', 'kuwaiti', 'kwan', 'kyi', 'kylie', 'kyoto', 'kyrgyzstan', 'la', 'label', 'labels', 'labor', 'laboratories', 'labors', 'labour', 'lack', 'laden', 'ladens', 'ladies', 'lag', 'lagoon', 'lagoons', 'lags', 'laid', 'lake', 'lakers', 'lakes', 'lambie', 'laments', 'land', 'landfill', 'landholder', 'landholders', 'landing', 'landmine', 'landmines', 'lands', 'landslide', 'langer', 'langmack']\n"
     ]
    },
    {
     "name": "stderr",
     "output_type": "stream",
     "text": [
      "E:\\PySoft\\Anaconda3\\envs\\ml\\lib\\site-packages\\sklearn\\utils\\deprecation.py:87: FutureWarning: Function get_feature_names is deprecated; get_feature_names is deprecated in 1.0 and will be removed in 1.2. Please use get_feature_names_out instead.\n",
      "  warnings.warn(msg, category=FutureWarning)\n"
     ]
    }
   ],
   "source": [
    "word_features = vectorizer.get_feature_names()\n",
    "print(len(word_features))\n",
    "print(word_features[5000: 5100])"
   ],
   "metadata": {
    "collapsed": false,
    "pycharm": {
     "name": "#%%\n"
    }
   }
  },
  {
   "cell_type": "markdown",
   "source": [
    "### Tokenizing\n",
    "将句子分解为单词和标点符号"
   ],
   "metadata": {
    "collapsed": false,
    "pycharm": {
     "name": "#%% md\n"
    }
   }
  },
  {
   "cell_type": "markdown",
   "source": [
    "### 使用停用词stemming和自定义的tokenizing进行TFIDF向量化"
   ],
   "metadata": {
    "collapsed": false
   }
  },
  {
   "cell_type": "code",
   "execution_count": 20,
   "outputs": [],
   "source": [
    "stemmer = SnowballStemmer('english')\n",
    "tokenizer = RegexpTokenizer(r'[a-zA-Z\\']+')\n",
    "\n",
    "def tokenize(text):\n",
    "    return np.asarray([' '.join(tokenizer.tokenize(' '.join([stemmer.stem(i) for i in j.split(' ')]))) for j in text], dtype=object)"
   ],
   "metadata": {
    "collapsed": false,
    "pycharm": {
     "name": "#%%\n"
    }
   }
  },
  {
   "cell_type": "code",
   "execution_count": 21,
   "outputs": [
    {
     "name": "stdout",
     "output_type": "stream",
     "text": [
      "['aba decid against communiti broadcast licenc'\n",
      " 'act fire wit must be awar of defam'\n",
      " 'a g call for infrastructur protect summit' ...\n",
      " 'vic bushfir inquiri begin' 'vic govt plan aim to reduc water use'\n",
      " 'vic govt urg to green light marina plan']\n"
     ]
    }
   ],
   "source": [
    "print(tokenize(desc))"
   ],
   "metadata": {
    "collapsed": false,
    "pycharm": {
     "name": "#%%\n"
    }
   }
  },
  {
   "cell_type": "code",
   "execution_count": 22,
   "outputs": [
    {
     "name": "stdout",
     "output_type": "stream",
     "text": [
      "['aa', 'aac', 'ab', 'aba', 'abalon', 'abandon', 'abar', 'abattoir', 'abbott', 'abc', 'abdic', 'abduct', 'abid', 'abigroup', 'abil', 'abl', 'ablaz', 'aboard', 'abolit', 'aborigin', 'abort', 'abov', 'abreast', 'abroad', 'absenc', 'absent', 'abu', 'abund', 'abus', 'abysm', 'ac', 'aca', 'academ', 'academi', 'acapulco', 'acb', 'accc', 'accent', 'accept', 'access', 'accid', 'accident', 'accommod', 'account', 'accredit', 'accus', 'ace', 'aceh', 'achiev', 'acid']\n"
     ]
    }
   ],
   "source": [
    "vectorizer = TfidfVectorizer(stop_words=stop_words)\n",
    "X = vectorizer.fit_transform(tokenize(desc))\n",
    "\n",
    "# print(X)\n",
    "print(vectorizer.get_feature_names()[:50])"
   ],
   "metadata": {
    "collapsed": false,
    "pycharm": {
     "name": "#%%\n"
    }
   }
  },
  {
   "cell_type": "markdown",
   "source": [
    "## K-Means 聚类\n",
    "\n",
    "使用手肘法选择聚类簇的数量\n",
    "\n",
    ">随着聚类数k的增大,样本划分会更加的精细,每个簇的聚合程度会逐渐提高,那么误差平方和SSE自然会逐渐变小,并且当k小于真实的簇类数时,由于k的增大会大幅增加每个簇的聚合程度,因此SSE的下降幅度会很大,而当k到达真实聚类数时,再增加k所得到的聚合程度回报会迅速变小,所以SSE的下降幅度会骤减,然后随着k值的继续增大而趋于平缓,也就是说SSE和k的关系类似于手肘的形状,而这个肘部对应的k值就是数据的真实聚类数.因此这种方法被称为手肘法."
   ],
   "metadata": {
    "collapsed": false,
    "pycharm": {
     "name": "#%% md\n"
    }
   }
  },
  {
   "cell_type": "code",
   "execution_count": 25,
   "outputs": [
    {
     "name": "stderr",
     "output_type": "stream",
     "text": [
      "100%|\u001B[36m██████████\u001B[0m| 10/10 [02:40<00:00, 16.08s/it]\n"
     ]
    },
    {
     "data": {
      "text/plain": "<Figure size 432x288 with 1 Axes>",
      "image/png": "[encoded data removed]"
     },
     "metadata": {
      "needs_background": "light"
     },
     "output_type": "display_data"
    }
   ],
   "source": [
    "wcss = []\n",
    "for i in tqdm(range(1,11), colour='cyan'):\n",
    "    kmeans = KMeans(n_clusters=i)\n",
    "    kmeans.fit(X)\n",
    "    wcss.append(kmeans.inertia_)\n",
    "plt.plot(range(1,11),wcss)\n",
    "plt.title('The Elbow Method')\n",
    "plt.xlabel('Number of clusters')\n",
    "plt.ylabel('WCSS')\n",
    "# plt.savefig('elbow.png')\n",
    "plt.show()"
   ],
   "metadata": {
    "collapsed": false,
    "pycharm": {
     "name": "#%%\n"
    }
   }
  },
  {
   "cell_type": "code",
   "execution_count": 29,
   "outputs": [
    {
     "data": {
      "text/plain": "                                          headline_text  category\n0     aba decides against community broadcasting lic...         0\n1        act fire witnesses must be aware of defamation         0\n2        a g calls for infrastructure protection summit         0\n3              air nz staff in aust strike for pay rise         0\n4         air nz strike to affect australian travellers         0\n...                                                 ...       ...\n9962  us units attack palace as fighting rages in heart         0\n9963   vasco win 10 goal thriller in brazil on edmundos         0\n9964                       vic bushfires inquiry begins         0\n9965             vic govt plan aims to reduce water use         0\n9966          vic govt urged to green light marina plan         0\n\n[9967 rows x 2 columns]",
      "text/html": "<div>\n<style scoped>\n    .dataframe tbody tr th:only-of-type {\n        vertical-align: middle;\n    }\n\n    .dataframe tbody tr th {\n        vertical-align: top;\n    }\n\n    .dataframe thead th {\n        text-align: right;\n    }\n</style>\n<table border=\"1\" class=\"dataframe\">\n  <thead>\n    <tr style=\"text-align: right;\">\n      <th></th>\n      <th>headline_text</th>\n      <th>category</th>\n    </tr>\n  </thead>\n  <tbody>\n    <tr>\n      <th>0</th>\n      <td>aba decides against community broadcasting lic...</td>\n      <td>0</td>\n    </tr>\n    <tr>\n      <th>1</th>\n      <td>act fire witnesses must be aware of defamation</td>\n      <td>0</td>\n    </tr>\n    <tr>\n      <th>2</th>\n      <td>a g calls for infrastructure protection summit</td>\n      <td>0</td>\n    </tr>\n    <tr>\n      <th>3</th>\n      <td>air nz staff in aust strike for pay rise</td>\n      <td>0</td>\n    </tr>\n    <tr>\n      <th>4</th>\n      <td>air nz strike to affect australian travellers</td>\n      <td>0</td>\n    </tr>\n    <tr>\n      <th>...</th>\n      <td>...</td>\n      <td>...</td>\n    </tr>\n    <tr>\n      <th>9962</th>\n      <td>us units attack palace as fighting rages in heart</td>\n      <td>0</td>\n    </tr>\n    <tr>\n      <th>9963</th>\n      <td>vasco win 10 goal thriller in brazil on edmundos</td>\n      <td>0</td>\n    </tr>\n    <tr>\n      <th>9964</th>\n      <td>vic bushfires inquiry begins</td>\n      <td>0</td>\n    </tr>\n    <tr>\n      <th>9965</th>\n      <td>vic govt plan aims to reduce water use</td>\n      <td>0</td>\n    </tr>\n    <tr>\n      <th>9966</th>\n      <td>vic govt urged to green light marina plan</td>\n      <td>0</td>\n    </tr>\n  </tbody>\n</table>\n<p>9967 rows × 2 columns</p>\n</div>"
     },
     "execution_count": 28,
     "metadata": {},
     "output_type": "execute_result"
    },
    {
     "data": {
      "text/plain": "                                         headline_text  category\n0    aba decides against community broadcasting lic...         0\n1       act fire witnesses must be aware of defamation         0\n2       a g calls for infrastructure protection summit         0\n3             air nz staff in aust strike for pay rise         0\n4        air nz strike to affect australian travellers         0\n..                                                 ...       ...\n495   claims live sheep cattle exports threatening tas         0\n496           claims more rain will boost stock prices         0\n497                     class action may cost esso 50m         0\n498                      clinton cancels trip to india         0\n499            coalition promises to scrap anglers fee         0\n\n[500 rows x 2 columns]",
      "text/html": "<div>\n<style scoped>\n    .dataframe tbody tr th:only-of-type {\n        vertical-align: middle;\n    }\n\n    .dataframe tbody tr th {\n        vertical-align: top;\n    }\n\n    .dataframe thead th {\n        text-align: right;\n    }\n</style>\n<table border=\"1\" class=\"dataframe\">\n  <thead>\n    <tr style=\"text-align: right;\">\n      <th></th>\n      <th>headline_text</th>\n      <th>category</th>\n    </tr>\n  </thead>\n  <tbody>\n    <tr>\n      <th>0</th>\n      <td>aba decides against community broadcasting lic...</td>\n      <td>0</td>\n    </tr>\n    <tr>\n      <th>1</th>\n      <td>act fire witnesses must be aware of defamation</td>\n      <td>0</td>\n    </tr>\n    <tr>\n      <th>2</th>\n      <td>a g calls for infrastructure protection summit</td>\n      <td>0</td>\n    </tr>\n    <tr>\n      <th>3</th>\n      <td>air nz staff in aust strike for pay rise</td>\n      <td>0</td>\n    </tr>\n    <tr>\n      <th>4</th>\n      <td>air nz strike to affect australian travellers</td>\n      <td>0</td>\n    </tr>\n    <tr>\n      <th>...</th>\n      <td>...</td>\n      <td>...</td>\n    </tr>\n    <tr>\n      <th>495</th>\n      <td>claims live sheep cattle exports threatening tas</td>\n      <td>0</td>\n    </tr>\n    <tr>\n      <th>496</th>\n      <td>claims more rain will boost stock prices</td>\n      <td>0</td>\n    </tr>\n    <tr>\n      <th>497</th>\n      <td>class action may cost esso 50m</td>\n      <td>0</td>\n    </tr>\n    <tr>\n      <th>498</th>\n      <td>clinton cancels trip to india</td>\n      <td>0</td>\n    </tr>\n    <tr>\n      <th>499</th>\n      <td>coalition promises to scrap anglers fee</td>\n      <td>0</td>\n    </tr>\n  </tbody>\n</table>\n<p>500 rows × 2 columns</p>\n</div>"
     },
     "execution_count": 29,
     "metadata": {},
     "output_type": "execute_result"
    }
   ],
   "source": [
    "cluster_center = 5\n",
    "kmeans = KMeans(n_clusters=cluster_center)\n",
    "kmeans.fit(X)\n",
    "\n",
    "output = pd.DataFrame(desc, columns=['headline_text'])\n",
    "output['category'] = kmeans.labels_\n",
    "output.head(500)"
   ],
   "metadata": {
    "collapsed": false,
    "pycharm": {
     "name": "#%%\n"
    }
   }
  }
 ],
 "metadata": {
  "kernelspec": {
   "display_name": "Python 3",
   "language": "python",
   "name": "python3"
  },
  "language_info": {
   "codemirror_mode": {
    "name": "ipython",
    "version": 2
   },
   "file_extension": ".py",
   "mimetype": "text/x-python",
   "name": "python",
   "nbconvert_exporter": "python",
   "pygments_lexer": "ipython2",
   "version": "2.7.6"
  }
 },
 "nbformat": 4,
 "nbformat_minor": 0
}